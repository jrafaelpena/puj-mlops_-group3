{
 "cells": [
  {
   "cell_type": "code",
   "execution_count": 53,
   "id": "b24094a0-de6d-4f6b-be12-8664034d1aa4",
   "metadata": {},
   "outputs": [
    {
     "data": {
      "text/plain": [
       "['2870',\n",
       " '104',\n",
       " '20',\n",
       " '150',\n",
       " '49',\n",
       " '4205',\n",
       " '249',\n",
       " '210',\n",
       " '80',\n",
       " '666',\n",
       " 'Rawah',\n",
       " 'C7201',\n",
       " '1']"
      ]
     },
     "execution_count": 53,
     "metadata": {},
     "output_type": "execute_result"
    }
   ],
   "source": [
    "import requests\n",
    "import json\n",
    "r = requests.get('http://10.43.101.189:80/data?group_number=3')\n",
    "d = json.loads(r.content.decode('utf-8'))\n",
    "d['data'][0]"
   ]
  },
  {
   "cell_type": "code",
   "execution_count": 54,
   "id": "1ef21345-6d67-41f1-9a62-450e8f0718b3",
   "metadata": {},
   "outputs": [
    {
     "name": "stdout",
     "output_type": "stream",
     "text": [
      "3\n",
      "1\n",
      "['2870', '104', '20', '150', '49', '4205', '249', '210', '80', '666', 'Rawah', 'C7201', '1']\n"
     ]
    }
   ],
   "source": [
    "print(d['group_number'])\n",
    "print(d['batch_number'])\n",
    "print(d['data'][0])"
   ]
  },
  {
   "cell_type": "code",
   "execution_count": null,
   "id": "0569ca25-4880-47bd-883e-e25d26dddedb",
   "metadata": {},
   "outputs": [],
   "source": []
  },
  {
   "cell_type": "code",
   "execution_count": 35,
   "id": "e0f2901d-fd2d-4404-a0be-43323c5ffc94",
   "metadata": {},
   "outputs": [],
   "source": [
    "r = requests.get('http://10.43.101.189:80/restart_data_generation?group_number=3')"
   ]
  },
  {
   "cell_type": "code",
   "execution_count": null,
   "id": "9f0fa156-9cd9-4510-a707-bff3fa7ac6da",
   "metadata": {},
   "outputs": [],
   "source": []
  }
 ],
 "metadata": {
  "kernelspec": {
   "display_name": "Python 3 (ipykernel)",
   "language": "python",
   "name": "python3"
  },
  "language_info": {
   "codemirror_mode": {
    "name": "ipython",
    "version": 3
   },
   "file_extension": ".py",
   "mimetype": "text/x-python",
   "name": "python",
   "nbconvert_exporter": "python",
   "pygments_lexer": "ipython3",
   "version": "3.10.16"
  }
 },
 "nbformat": 4,
 "nbformat_minor": 5
}
