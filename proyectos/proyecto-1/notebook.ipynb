{
 "cells": [
  {
   "cell_type": "markdown",
   "metadata": {},
   "source": [
    "# PROYECTO 1"
   ]
  },
  {
   "cell_type": "markdown",
   "metadata": {},
   "source": [
    "**Curso:** Operaciones de Aprendizaje de Máquina\n",
    "\n",
    "**Estudiantes:**\n",
    "- Juan José García\n",
    "- Ruben Dario Hoyos\n",
    "- José Rafael Peña"
   ]
  },
  {
   "cell_type": "markdown",
   "metadata": {},
   "source": [
    "## Setup"
   ]
  },
  {
   "cell_type": "markdown",
   "metadata": {},
   "source": [
    "### Importación de librerías"
   ]
  },
  {
   "cell_type": "code",
   "execution_count": null,
   "metadata": {},
   "outputs": [],
   "source": [
    "from pathlib import Path\n",
    "import os\n",
    "import requests\n",
    "\n",
    "import pandas as pd\n",
    "from dataclasses import dataclass\n",
    "from typing import List"
   ]
  },
  {
   "cell_type": "code",
   "execution_count": null,
   "metadata": {},
   "outputs": [],
   "source": [
    "from sklearn.preprocessing import StandardScaler\n",
    "from sklearn.feature_selection import SelectKBest, f_classif, mutual_info_classif"
   ]
  },
  {
   "cell_type": "markdown",
   "metadata": {},
   "source": [
    "### Carga de datos"
   ]
  },
  {
   "cell_type": "code",
   "execution_count": null,
   "metadata": {},
   "outputs": [],
   "source": [
    "# Directory of the raw data files\n",
    "data_root = Path('./data/covertype')\n",
    "\n",
    "# Path to the raw training data\n",
    "data_filepath = data_root / 'covertype_train.csv'\n",
    "\n",
    "# Ensure the directory exists\n",
    "data_root.mkdir(parents=True, exist_ok=True)\n",
    "\n",
    "# Download data if it doesn't exist\n",
    "if not data_filepath.is_file():\n",
    "    # URL for the dataset\n",
    "    # https://archive.ics.uci.edu/ml/machine-learning-databases/covtype/\n",
    "    url = 'https://docs.google.com/uc?export=download&confirm={{VALUE}}&id=1lVF1BCWLH4eXXV_YOJzjR7xZjj-wAGj9'\n",
    "    \n",
    "    r = requests.get(url, allow_redirects=True, stream=True)\n",
    "    \n",
    "    data_filepath.write_bytes(r.content)"
   ]
  },
  {
   "cell_type": "markdown",
   "metadata": {},
   "source": [
    "## Pasos proyecto"
   ]
  },
  {
   "cell_type": "markdown",
   "metadata": {},
   "source": [
    "### **2.1** Carga el dataset"
   ]
  },
  {
   "cell_type": "code",
   "execution_count": null,
   "metadata": {},
   "outputs": [],
   "source": [
    "df = pd.read_csv(data_filepath)"
   ]
  },
  {
   "cell_type": "code",
   "execution_count": null,
   "metadata": {},
   "outputs": [],
   "source": [
    "df.info()"
   ]
  },
  {
   "cell_type": "markdown",
   "metadata": {},
   "source": [
    "### **3** Selección de características"
   ]
  },
  {
   "cell_type": "code",
   "execution_count": null,
   "metadata": {},
   "outputs": [],
   "source": [
    "@dataclass\n",
    "class DataConfig:\n",
    "    target_col: str\n",
    "    non_numeric_cols: List[str]\n",
    "\n",
    "# Creating an instance with specific values\n",
    "config = DataConfig(\n",
    "    target_col=\"Cover_Type\",\n",
    "    non_numeric_cols=list(df.select_dtypes(include=['object']).columns)\n",
    ")"
   ]
  },
  {
   "cell_type": "code",
   "execution_count": null,
   "metadata": {},
   "outputs": [],
   "source": [
    "# Drop non-numeric columns\n",
    "df_1 = df.drop(columns=config.non_numeric_cols)\n",
    "\n",
    "# Separate features and label\n",
    "X = df_1.drop(columns=[config.target_col])\n",
    "y = df_1[config.target_col].astype('category')\n",
    "\n",
    "# Scale data\n",
    "scaler = StandardScaler()\n",
    "X_scaled = scaler.fit_transform(X)\n",
    "\n",
    "# Convert back to DataFrame with original column names\n",
    "X_scaled = pd.DataFrame(X_scaled, columns=X.columns)\n",
    "\n",
    "# Implement f_classif as score function and select the 8 best columns\n",
    "selector = SelectKBest(score_func=f_classif, k=8)\n",
    "X_selected = selector.fit_transform(X_scaled, y)\n",
    "\n",
    "# Create and print a df comparing the column and the result (if its retained or not)\n",
    "selected_columns_df = pd.DataFrame({\n",
    "    'Column': X_scaled.columns,\n",
    "    'Retain': selector.get_support()\n",
    "})\n",
    "selected_columns_df"
   ]
  },
  {
   "cell_type": "markdown",
   "metadata": {},
   "source": [
    "### **4.1** Configurar el contexto interactivo"
   ]
  }
 ],
 "metadata": {
  "kernelspec": {
   "display_name": "mlops",
   "language": "python",
   "name": "python3"
  },
  "language_info": {
   "codemirror_mode": {
    "name": "ipython",
    "version": 3
   },
   "file_extension": ".py",
   "mimetype": "text/x-python",
   "name": "python",
   "nbconvert_exporter": "python",
   "pygments_lexer": "ipython3",
   "version": "3.10.16"
  }
 },
 "nbformat": 4,
 "nbformat_minor": 2
}
