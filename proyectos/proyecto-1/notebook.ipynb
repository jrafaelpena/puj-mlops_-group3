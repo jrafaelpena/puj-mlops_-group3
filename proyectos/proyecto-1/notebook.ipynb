{
 "cells": [
  {
   "cell_type": "markdown",
   "metadata": {},
   "source": [
    "# PROYECTO 1"
   ]
  },
  {
   "cell_type": "markdown",
   "metadata": {},
   "source": [
    "**Curso:** Operaciones de Aprendizaje de Máquina\n",
    "\n",
    "**Estudiantes:**\n",
    "- Juan José García\n",
    "- Ruben Dario Hoyos\n",
    "- José Rafael Peña"
   ]
  },
  {
   "cell_type": "markdown",
   "metadata": {},
   "source": [
    "## Setup"
   ]
  },
  {
   "cell_type": "markdown",
   "metadata": {},
   "source": [
    "### Importación de librerías"
   ]
  },
  {
   "cell_type": "code",
   "execution_count": null,
   "metadata": {},
   "outputs": [],
   "source": [
    "# General modules\n",
    "from pathlib import Path\n",
    "import os\n",
    "import requests\n",
    "from typing import List\n",
    "from dataclasses import dataclass\n",
    "import pandas as pd"
   ]
  },
  {
   "cell_type": "code",
   "execution_count": null,
   "metadata": {},
   "outputs": [],
   "source": [
    "# Sklearn modules\n",
    "from sklearn.preprocessing import StandardScaler\n",
    "from sklearn.feature_selection import SelectKBest, f_classif, mutual_info_classif"
   ]
  },
  {
   "cell_type": "code",
   "execution_count": null,
   "metadata": {},
   "outputs": [],
   "source": [
    "# Tensorflow module\n",
    "import tensorflow as tf\n",
    "\n",
    "# TFX components\n",
    "from tfx.components import CsvExampleGen\n",
    "from tfx.components import ExampleValidator\n",
    "from tfx.components import SchemaGen\n",
    "from tfx.components import StatisticsGen\n",
    "from tfx.components import Transform\n",
    "from tfx.orchestration.experimental.interactive.interactive_context import InteractiveContext\n",
    "from google.protobuf.json_format import MessageToDict\n",
    "\n",
    "# TFDV modules\n",
    "import tensorflow_data_validation as tfdv\n",
    "from tensorflow_metadata.proto.v0 import schema_pb2"
   ]
  },
  {
   "cell_type": "markdown",
   "metadata": {
    "jp-MarkdownHeadingCollapsed": true
   },
   "source": [
    "### Definición de carpetas"
   ]
  },
  {
   "cell_type": "code",
   "execution_count": null,
   "metadata": {},
   "outputs": [],
   "source": [
    "# Directory of the raw data files\n",
    "data_root = Path('./data/covertype')\n",
    "\n",
    "# Directory of the preprocessed data files\n",
    "data_root_prepro = Path('./data/covertype_prepro')\n",
    "\n",
    "# Path to the raw training data\n",
    "data_filepath = data_root / 'covertype_train.csv'\n",
    "\n",
    "# Ensure the data_root directory exists\n",
    "data_root.mkdir(parents=True, exist_ok=True)\n",
    "\n",
    "# Ensure the data_root_prepro directory exists\n",
    "data_root_prepro.mkdir(parents=True, exist_ok=True)\n",
    "\n",
    "# Directory of the pipeline metadata store\n",
    "pipeline_root = Path('./pipeline/')\n",
    "\n",
    "# Ensure the pipeline_root directory exists\n",
    "pipeline_root.mkdir(parents=True, exist_ok=True)"
   ]
  },
  {
   "cell_type": "markdown",
   "metadata": {
    "jp-MarkdownHeadingCollapsed": true
   },
   "source": [
    "### Carga de datos"
   ]
  },
  {
   "cell_type": "code",
   "execution_count": null,
   "metadata": {},
   "outputs": [],
   "source": [
    "# Download data if it doesn't exist\n",
    "if not data_filepath.is_file():\n",
    "    # URL for the dataset\n",
    "    # https://archive.ics.uci.edu/ml/machine-learning-databases/covtype/\n",
    "    url = 'https://docs.google.com/uc?export=download&confirm={{VALUE}}&id=1lVF1BCWLH4eXXV_YOJzjR7xZjj-wAGj9'\n",
    "    \n",
    "    r = requests.get(url, allow_redirects=True, stream=True)\n",
    "    \n",
    "    data_filepath.write_bytes(r.content)"
   ]
  },
  {
   "cell_type": "markdown",
   "metadata": {},
   "source": [
    "## Pasos proyecto"
   ]
  },
  {
   "cell_type": "markdown",
   "metadata": {
    "jp-MarkdownHeadingCollapsed": true
   },
   "source": [
    "### **2.1** Carga el dataset"
   ]
  },
  {
   "cell_type": "code",
   "execution_count": null,
   "metadata": {},
   "outputs": [],
   "source": [
    "df = pd.read_csv(data_filepath)"
   ]
  },
  {
   "cell_type": "code",
   "execution_count": null,
   "metadata": {},
   "outputs": [],
   "source": [
    "df.info()"
   ]
  },
  {
   "cell_type": "markdown",
   "metadata": {
    "jp-MarkdownHeadingCollapsed": true
   },
   "source": [
    "### **3** Selección de características"
   ]
  },
  {
   "cell_type": "code",
   "execution_count": null,
   "metadata": {},
   "outputs": [],
   "source": [
    "@dataclass\n",
    "class DataConfig:\n",
    "    target_col: str\n",
    "    non_numeric_cols: List[str]\n",
    "    final_df_path: Path\n",
    "\n",
    "# Creating an instance with specific values\n",
    "config = DataConfig(\n",
    "    target_col=\"Cover_Type\",\n",
    "    non_numeric_cols=list(df.select_dtypes(include=['object']).columns),\n",
    "    final_df_path= data_root_prepro / \"covertype_preprocessed.csv\"\n",
    ")"
   ]
  },
  {
   "cell_type": "markdown",
   "metadata": {},
   "source": [
    "La ejecución de la siguiente celda se omite mediante el comando `%%script false --no-raise-error`, ya que contiene la normalización de los datos, un proceso que ya se realizó previamente según lo indicado en el documento:  \n",
    "\n",
    "> **\"Recuerde que, primero, debe preparar las características de entrada y de destino:\"**  \n",
    "\n",
    "Sin embargo, más adelante en el documento se asume que los datos conservan sus valores originales, por lo que la normalización se aplica posteriormente utilizando las herramientas de TFX."
   ]
  },
  {
   "cell_type": "code",
   "execution_count": null,
   "metadata": {},
   "outputs": [],
   "source": [
    "%%script false --no-raise-error\n",
    "# Drop non-numeric columns\n",
    "df_1 = df.drop(columns=config.non_numeric_cols)\n",
    "\n",
    "# Separate features and label\n",
    "X = df_1.drop(columns=[config.target_col])\n",
    "y = df_1[config.target_col].astype('category')\n",
    "\n",
    "# Scale data\n",
    "scaler = StandardScaler()\n",
    "X_scaled = scaler.fit_transform(X)\n",
    "\n",
    "# Convert back to DataFrame with original column names\n",
    "X_scaled = pd.DataFrame(X_scaled, columns=X.columns)\n",
    "\n",
    "# Implement f_classif as score function and select the 8 best columns\n",
    "selector = SelectKBest(score_func=f_classif, k=8)\n",
    "selector.fit(X, y)\n",
    "\n",
    "# Create and print a df comparing the column and the result (if its retained or not)\n",
    "selected_columns_df = pd.DataFrame({\n",
    "    'Column': X_scaled.columns,\n",
    "    'Retain': selector.get_support()\n",
    "})\n",
    "selected_columns_df"
   ]
  },
  {
   "cell_type": "code",
   "execution_count": null,
   "metadata": {},
   "outputs": [],
   "source": [
    "# Drop non-numeric columns\n",
    "df_1 = df.drop(columns=config.non_numeric_cols)\n",
    "\n",
    "# Separate features and label\n",
    "X = df_1.drop(columns=[config.target_col])\n",
    "y = df_1[config.target_col].astype('category')\n",
    "\n",
    "# Implement f_classif as score function and select the 8 best columns\n",
    "selector = SelectKBest(score_func=f_classif, k=8)\n",
    "selector.fit(X, y)\n",
    "\n",
    "# Select the best features using boolean mask\n",
    "X_selected = X.loc[:, selector.get_support()]\n",
    "\n",
    "# Create and print a df comparing the column and the result (if its retained or not)\n",
    "selected_columns_df = pd.DataFrame({\n",
    "    'Column': X.columns,\n",
    "    'Retain': selector.get_support()\n",
    "})\n",
    "selected_columns_df"
   ]
  },
  {
   "cell_type": "code",
   "execution_count": null,
   "metadata": {},
   "outputs": [],
   "source": [
    "# Add the target column back\n",
    "final_df = X_selected.copy()\n",
    "final_df[config.target_col] = y.values\n",
    "\n",
    "# Save the updated dataframe to CSV\n",
    "final_df.to_csv(config.final_df_path, index=False)"
   ]
  },
  {
   "cell_type": "markdown",
   "metadata": {
    "jp-MarkdownHeadingCollapsed": true
   },
   "source": [
    "### **4.1** Configurar el contexto interactivo"
   ]
  },
  {
   "cell_type": "code",
   "execution_count": null,
   "metadata": {},
   "outputs": [],
   "source": [
    "context = InteractiveContext(pipeline_root=str(pipeline_root))"
   ]
  },
  {
   "cell_type": "markdown",
   "metadata": {},
   "source": [
    "### **4.2** Generando ejemplos"
   ]
  },
  {
   "cell_type": "code",
   "execution_count": null,
   "metadata": {},
   "outputs": [],
   "source": [
    "# Instantiate ExampleGen with the input CSV dataset\n",
    "example_gen = CsvExampleGen(input_base=str(data_root_prepro))\n",
    "\n",
    "# Execute the component\n",
    "context.run(example_gen)\n",
    "\n",
    "print(\"CsvExampleGen ok\")"
   ]
  },
  {
   "cell_type": "markdown",
   "metadata": {},
   "source": [
    "### **4.3** Estadísticas"
   ]
  },
  {
   "cell_type": "code",
   "execution_count": null,
   "metadata": {},
   "outputs": [],
   "source": [
    "# get the artifact object\n",
    "artifact = example_gen.outputs['examples'].get()[0]\n",
    "\n",
    "# print split names and uri\n",
    "print(f'split names: {artifact.split_names}')\n",
    "print(f'artifact uri: {artifact.uri}')"
   ]
  },
  {
   "cell_type": "code",
   "execution_count": null,
   "metadata": {},
   "outputs": [],
   "source": [
    "# Instantiate StatisticsGen with the ExampleGen ingested dataset\n",
    "statistics_gen = StatisticsGen(\n",
    "    examples=example_gen.outputs['examples'])\n",
    "\n",
    "# Execute the component\n",
    "context.run(statistics_gen)\n",
    "\n",
    "print('StatisticsGen OK')"
   ]
  },
  {
   "cell_type": "code",
   "execution_count": null,
   "metadata": {},
   "outputs": [],
   "source": [
    "# Show the output statistics\n",
    "context.show(statistics_gen.outputs['statistics'])"
   ]
  },
  {
   "cell_type": "markdown",
   "metadata": {},
   "source": [
    "### **4.4** Inferir Esquema"
   ]
  },
  {
   "cell_type": "code",
   "execution_count": null,
   "metadata": {},
   "outputs": [],
   "source": [
    "# Instantiate SchemaGen with the StatisticsGen ingested dataset\n",
    "schema_gen = SchemaGen(\n",
    "    statistics=statistics_gen.outputs['statistics'],\n",
    "    )\n",
    "\n",
    "# Run the component\n",
    "context.run(schema_gen)\n",
    "\n",
    "print('SchemaGen OK')"
   ]
  },
  {
   "cell_type": "code",
   "execution_count": null,
   "metadata": {},
   "outputs": [],
   "source": [
    "# Visualize the schema\n",
    "context.show(schema_gen.outputs['schema'])"
   ]
  },
  {
   "cell_type": "markdown",
   "metadata": {},
   "source": [
    "### **4.5** Curando Esquema"
   ]
  },
  {
   "cell_type": "code",
   "execution_count": null,
   "metadata": {},
   "outputs": [],
   "source": [
    "# Load schema as tensorflow_metadata.proto.v0.schema_pb2\n",
    "schema_path = schema_gen.outputs['schema'].get()[0].uri + \"/schema.pbtxt\"\n",
    "schema = tfdv.load_schema_text(schema_path)\n",
    "type(schema)"
   ]
  },
  {
   "cell_type": "code",
   "execution_count": null,
   "metadata": {},
   "outputs": [],
   "source": [
    "# Set domains for Hillshade_9am, Hillshade_Noon, Slope, Cover_Type\n",
    "tfdv.set_domain(schema, 'Hillshade_9am', schema_pb2.IntDomain(min=0, max=255))\n",
    "tfdv.set_domain(schema, 'Hillshade_Noon', schema_pb2.IntDomain(min=0, max=255))\n",
    "tfdv.set_domain(schema, 'Slope', schema_pb2.IntDomain(min=0, max=99))\n",
    "tfdv.set_domain(schema, 'Cover_Type', schema_pb2.StringDomain(value=['0','1', '2', '3', '4', '5', '6']))"
   ]
  },
  {
   "cell_type": "markdown",
   "metadata": {},
   "source": [
    "En los siguientes bloques se muestra que el esquema ha cambiado solo en memoria. Sin embargo, aún es necesario guardarlo en la metadata de SchemaGen para que los cambios sean persistentes y reconocidos por el pipeline."
   ]
  },
  {
   "cell_type": "code",
   "execution_count": null,
   "metadata": {},
   "outputs": [],
   "source": [
    "# Display the updated schema with domains\n",
    "tfdv.display_schema(schema)"
   ]
  },
  {
   "cell_type": "code",
   "execution_count": null,
   "metadata": {},
   "outputs": [],
   "source": [
    "# Display the old schema with no domains\n",
    "context.show(schema_gen.outputs['schema'])"
   ]
  },
  {
   "cell_type": "code",
   "execution_count": null,
   "metadata": {},
   "outputs": [],
   "source": [
    "# Overwrite the file\n",
    "tfdv.write_schema_text(schema, schema_path)\n",
    "\n",
    "# Display updated schema with SchemaGen\n",
    "context.show(schema_gen.outputs['schema'])"
   ]
  }
 ],
 "metadata": {
  "kernelspec": {
   "display_name": "Python 3 (ipykernel)",
   "language": "python",
   "name": "python3"
  },
  "language_info": {
   "codemirror_mode": {
    "name": "ipython",
    "version": 3
   },
   "file_extension": ".py",
   "mimetype": "text/x-python",
   "name": "python",
   "nbconvert_exporter": "python",
   "pygments_lexer": "ipython3",
   "version": "3.10.16"
  }
 },
 "nbformat": 4,
 "nbformat_minor": 4
}
