{
 "cells": [
  {
   "cell_type": "code",
   "execution_count": 1,
   "metadata": {},
   "outputs": [],
   "source": [
    "from pathlib import Path\n",
    "import os\n",
    "import requests\n",
    "import pandas as pd"
   ]
  },
  {
   "cell_type": "code",
   "execution_count": 3,
   "metadata": {},
   "outputs": [],
   "source": [
    "# Directory of the raw data files\n",
    "data_root = Path('./data/covertype')\n",
    "\n",
    "# Path to the raw training data\n",
    "data_filepath = data_root / 'covertype_train.csv'\n",
    "\n",
    "# Ensure the directory exists\n",
    "data_root.mkdir(parents=True, exist_ok=True)\n",
    "\n",
    "# Download data if it doesn't exist\n",
    "if not data_filepath.is_file():\n",
    "    # URL for the dataset\n",
    "    # https://archive.ics.uci.edu/ml/machine-learning-databases/covtype/\n",
    "    url = 'https://docs.google.com/uc?export=download&confirm={{VALUE}}&id=1lVF1BCWLH4eXXV_YOJzjR7xZjj-wAGj9'\n",
    "    \n",
    "    r = requests.get(url, allow_redirects=True, stream=True)\n",
    "    \n",
    "    data_filepath.write_bytes(r.content)"
   ]
  }
 ],
 "metadata": {
  "kernelspec": {
   "display_name": "mlops",
   "language": "python",
   "name": "python3"
  },
  "language_info": {
   "codemirror_mode": {
    "name": "ipython",
    "version": 3
   },
   "file_extension": ".py",
   "mimetype": "text/x-python",
   "name": "python",
   "nbconvert_exporter": "python",
   "pygments_lexer": "ipython3",
   "version": "3.10.16"
  }
 },
 "nbformat": 4,
 "nbformat_minor": 2
}
