{
 "cells": [
  {
   "cell_type": "code",
   "execution_count": 6,
   "id": "00bf500d-69f2-4025-bd9e-a73e9bdc9738",
   "metadata": {},
   "outputs": [],
   "source": [
    "from sqlalchemy import create_engine, inspect\n",
    "import mlflow\n",
    "import pandas as pd\n"
   ]
  },
  {
   "cell_type": "markdown",
   "id": "04087c0f-506b-4a03-b3ad-0b282a8df3ce",
   "metadata": {},
   "source": [
    "### Parametros conexiones"
   ]
  },
  {
   "cell_type": "code",
   "execution_count": 7,
   "id": "e44368e1-0c34-48f0-96f6-9b664fe51eb0",
   "metadata": {},
   "outputs": [],
   "source": [
    "db_config = {\n",
    "    \"host\": \"10.43.101.189\",\n",
    "    \"port\": 3306,\n",
    "    \"user\": \"taller-mlflow\",\n",
    "    \"password\": \"mlflow\",\n",
    "    \"database\": \"taller\",\n",
    "}\n",
    "\n",
    "tracking_uri = \"http://10.43.101.189:5000\""
   ]
  },
  {
   "cell_type": "markdown",
   "id": "77c8c9f3-bb2f-4e5e-83d1-22ce3233f4c8",
   "metadata": {},
   "source": [
    "### Carga de datos desde servidor de `MySql`"
   ]
  },
  {
   "cell_type": "code",
   "execution_count": 8,
   "id": "8cbbf6ef-4417-4d8c-abc5-fbb44e3c582c",
   "metadata": {
    "tags": []
   },
   "outputs": [
    {
     "name": "stdout",
     "output_type": "stream",
     "text": [
      "Tablas en la base de datos 'taller': ['iris_cleaned', 'iris_raw']\n"
     ]
    }
   ],
   "source": [
    "engine = create_engine(\n",
    "    f\"mysql+pymysql://{db_config['user']}:{db_config['password']}@{db_config['host']}:{db_config['port']}/{db_config['database']}\"\n",
    ")\n",
    "\n",
    "# Crear el inspector de la base de datos\n",
    "inspector = inspect(engine)\n",
    "\n",
    "# Obtener la lista de tablas en la base de datos 'taller'\n",
    "tables = inspector.get_table_names()\n",
    "\n",
    "# Imprimir la lista de tablas\n",
    "print(\"Tablas en la base de datos 'taller':\", tables)\n"
   ]
  },
  {
   "cell_type": "code",
   "execution_count": 10,
   "id": "3b2a1ef4-bedc-4f44-8a6d-c6bbf579ebe6",
   "metadata": {
    "tags": []
   },
   "outputs": [
    {
     "data": {
      "text/html": [
       "<div>\n",
       "<style scoped>\n",
       "    .dataframe tbody tr th:only-of-type {\n",
       "        vertical-align: middle;\n",
       "    }\n",
       "\n",
       "    .dataframe tbody tr th {\n",
       "        vertical-align: top;\n",
       "    }\n",
       "\n",
       "    .dataframe thead th {\n",
       "        text-align: right;\n",
       "    }\n",
       "</style>\n",
       "<table border=\"1\" class=\"dataframe\">\n",
       "  <thead>\n",
       "    <tr style=\"text-align: right;\">\n",
       "      <th></th>\n",
       "      <th>sepal length (cm)</th>\n",
       "      <th>sepal width (cm)</th>\n",
       "      <th>petal length (cm)</th>\n",
       "      <th>petal width (cm)</th>\n",
       "      <th>species</th>\n",
       "    </tr>\n",
       "  </thead>\n",
       "  <tbody>\n",
       "    <tr>\n",
       "      <th>0</th>\n",
       "      <td>5.1</td>\n",
       "      <td>3.5</td>\n",
       "      <td>1.4</td>\n",
       "      <td>0.2</td>\n",
       "      <td>0</td>\n",
       "    </tr>\n",
       "    <tr>\n",
       "      <th>1</th>\n",
       "      <td>4.9</td>\n",
       "      <td>3.0</td>\n",
       "      <td>1.4</td>\n",
       "      <td>0.2</td>\n",
       "      <td>0</td>\n",
       "    </tr>\n",
       "    <tr>\n",
       "      <th>2</th>\n",
       "      <td>4.7</td>\n",
       "      <td>3.2</td>\n",
       "      <td>1.3</td>\n",
       "      <td>0.2</td>\n",
       "      <td>0</td>\n",
       "    </tr>\n",
       "    <tr>\n",
       "      <th>3</th>\n",
       "      <td>4.6</td>\n",
       "      <td>3.1</td>\n",
       "      <td>1.5</td>\n",
       "      <td>0.2</td>\n",
       "      <td>0</td>\n",
       "    </tr>\n",
       "    <tr>\n",
       "      <th>4</th>\n",
       "      <td>5.0</td>\n",
       "      <td>3.6</td>\n",
       "      <td>1.4</td>\n",
       "      <td>0.2</td>\n",
       "      <td>0</td>\n",
       "    </tr>\n",
       "  </tbody>\n",
       "</table>\n",
       "</div>"
      ],
      "text/plain": [
       "   sepal length (cm)  sepal width (cm)  petal length (cm)  petal width (cm)  \\\n",
       "0                5.1               3.5                1.4               0.2   \n",
       "1                4.9               3.0                1.4               0.2   \n",
       "2                4.7               3.2                1.3               0.2   \n",
       "3                4.6               3.1                1.5               0.2   \n",
       "4                5.0               3.6                1.4               0.2   \n",
       "\n",
       "   species  \n",
       "0        0  \n",
       "1        0  \n",
       "2        0  \n",
       "3        0  \n",
       "4        0  "
      ]
     },
     "execution_count": 10,
     "metadata": {},
     "output_type": "execute_result"
    }
   ],
   "source": [
    "df = pd.read_sql_table('iris_cleaned', engine)\n",
    "\n",
    "df.head()"
   ]
  },
  {
   "cell_type": "markdown",
   "id": "ebd55724-3693-4544-85e7-3ea2e6a8102a",
   "metadata": {},
   "source": [
    "### Set up MLflow"
   ]
  },
  {
   "cell_type": "code",
   "execution_count": 11,
   "id": "e841a128-da72-4853-ae64-29b914abe555",
   "metadata": {
    "tags": []
   },
   "outputs": [
    {
     "name": "stderr",
     "output_type": "stream",
     "text": [
      "2025/03/16 21:12:16 INFO mlflow.tracking.fluent: Experiment with name 'iris_classification_experiment' does not exist. Creating a new experiment.\n"
     ]
    },
    {
     "data": {
      "text/plain": [
       "<Experiment: artifact_location='s3://mlflows3/artifacts/1', creation_time=1742159536746, experiment_id='1', last_update_time=1742159536746, lifecycle_stage='active', name='iris_classification_experiment', tags={}>"
      ]
     },
     "execution_count": 11,
     "metadata": {},
     "output_type": "execute_result"
    }
   ],
   "source": [
    "# Set up MLflow tracking URI\n",
    "tracking_uri = \"http://10.43.101.189:5000\"\n",
    "mlflow.set_tracking_uri(tracking_uri)\n",
    "\n",
    "# Create an experiment\n",
    "experiment_name = \"iris_classification_experiment\"\n",
    "mlflow.set_experiment(experiment_name)"
   ]
  }
 ],
 "metadata": {
  "kernelspec": {
   "display_name": "Python 3 (ipykernel)",
   "language": "python",
   "name": "python3"
  },
  "language_info": {
   "codemirror_mode": {
    "name": "ipython",
    "version": 3
   },
   "file_extension": ".py",
   "mimetype": "text/x-python",
   "name": "python",
   "nbconvert_exporter": "python",
   "pygments_lexer": "ipython3",
   "version": "3.10.16"
  }
 },
 "nbformat": 4,
 "nbformat_minor": 5
}
