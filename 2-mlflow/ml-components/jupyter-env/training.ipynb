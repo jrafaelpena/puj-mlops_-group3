{
 "cells": [
  {
   "cell_type": "code",
   "execution_count": 12,
   "id": "00bf500d-69f2-4025-bd9e-a73e9bdc9738",
   "metadata": {},
   "outputs": [],
   "source": [
    "from sqlalchemy import create_engine, inspect\n",
    "import mlflow\n",
    "import pandas as pd"
   ]
  },
  {
   "cell_type": "code",
   "execution_count": 18,
   "id": "27b5ea6e-7793-4915-b6b1-1b0adcbd56df",
   "metadata": {
    "tags": []
   },
   "outputs": [],
   "source": [
    "from sklearn.model_selection import train_test_split"
   ]
  },
  {
   "cell_type": "markdown",
   "id": "04087c0f-506b-4a03-b3ad-0b282a8df3ce",
   "metadata": {
    "tags": []
   },
   "source": [
    "### Parametros conexiones"
   ]
  },
  {
   "cell_type": "code",
   "execution_count": 13,
   "id": "e44368e1-0c34-48f0-96f6-9b664fe51eb0",
   "metadata": {},
   "outputs": [],
   "source": [
    "db_config = {\n",
    "    \"host\": \"10.43.101.189\",\n",
    "    \"port\": 3306,\n",
    "    \"user\": \"taller-mlflow\",\n",
    "    \"password\": \"mlflow\",\n",
    "    \"database\": \"taller\",\n",
    "}\n",
    "\n",
    "tracking_uri = \"http://10.43.101.189:5000\""
   ]
  },
  {
   "cell_type": "markdown",
   "id": "77c8c9f3-bb2f-4e5e-83d1-22ce3233f4c8",
   "metadata": {
    "tags": []
   },
   "source": [
    "### Carga de datos desde servidor de `MySql`"
   ]
  },
  {
   "cell_type": "code",
   "execution_count": 14,
   "id": "8cbbf6ef-4417-4d8c-abc5-fbb44e3c582c",
   "metadata": {
    "tags": []
   },
   "outputs": [
    {
     "name": "stdout",
     "output_type": "stream",
     "text": [
      "Tablas en la base de datos 'taller': ['iris_cleaned', 'iris_raw']\n"
     ]
    }
   ],
   "source": [
    "engine = create_engine(\n",
    "    f\"mysql+pymysql://{db_config['user']}:{db_config['password']}@{db_config['host']}:{db_config['port']}/{db_config['database']}\"\n",
    ")\n",
    "\n",
    "# Crear el inspector de la base de datos\n",
    "inspector = inspect(engine)\n",
    "\n",
    "# Obtener la lista de tablas en la base de datos 'taller'\n",
    "tables = inspector.get_table_names()\n",
    "\n",
    "# Imprimir la lista de tablas\n",
    "print(\"Tablas en la base de datos 'taller':\", tables)\n"
   ]
  },
  {
   "cell_type": "code",
   "execution_count": 15,
   "id": "3b2a1ef4-bedc-4f44-8a6d-c6bbf579ebe6",
   "metadata": {
    "tags": []
   },
   "outputs": [
    {
     "data": {
      "text/html": [
       "<div>\n",
       "<style scoped>\n",
       "    .dataframe tbody tr th:only-of-type {\n",
       "        vertical-align: middle;\n",
       "    }\n",
       "\n",
       "    .dataframe tbody tr th {\n",
       "        vertical-align: top;\n",
       "    }\n",
       "\n",
       "    .dataframe thead th {\n",
       "        text-align: right;\n",
       "    }\n",
       "</style>\n",
       "<table border=\"1\" class=\"dataframe\">\n",
       "  <thead>\n",
       "    <tr style=\"text-align: right;\">\n",
       "      <th></th>\n",
       "      <th>sepal length (cm)</th>\n",
       "      <th>sepal width (cm)</th>\n",
       "      <th>petal length (cm)</th>\n",
       "      <th>petal width (cm)</th>\n",
       "      <th>species</th>\n",
       "    </tr>\n",
       "  </thead>\n",
       "  <tbody>\n",
       "    <tr>\n",
       "      <th>0</th>\n",
       "      <td>5.1</td>\n",
       "      <td>3.5</td>\n",
       "      <td>1.4</td>\n",
       "      <td>0.2</td>\n",
       "      <td>0</td>\n",
       "    </tr>\n",
       "    <tr>\n",
       "      <th>1</th>\n",
       "      <td>4.9</td>\n",
       "      <td>3.0</td>\n",
       "      <td>1.4</td>\n",
       "      <td>0.2</td>\n",
       "      <td>0</td>\n",
       "    </tr>\n",
       "    <tr>\n",
       "      <th>2</th>\n",
       "      <td>4.7</td>\n",
       "      <td>3.2</td>\n",
       "      <td>1.3</td>\n",
       "      <td>0.2</td>\n",
       "      <td>0</td>\n",
       "    </tr>\n",
       "    <tr>\n",
       "      <th>3</th>\n",
       "      <td>4.6</td>\n",
       "      <td>3.1</td>\n",
       "      <td>1.5</td>\n",
       "      <td>0.2</td>\n",
       "      <td>0</td>\n",
       "    </tr>\n",
       "    <tr>\n",
       "      <th>4</th>\n",
       "      <td>5.0</td>\n",
       "      <td>3.6</td>\n",
       "      <td>1.4</td>\n",
       "      <td>0.2</td>\n",
       "      <td>0</td>\n",
       "    </tr>\n",
       "  </tbody>\n",
       "</table>\n",
       "</div>"
      ],
      "text/plain": [
       "   sepal length (cm)  sepal width (cm)  petal length (cm)  petal width (cm)  \\\n",
       "0                5.1               3.5                1.4               0.2   \n",
       "1                4.9               3.0                1.4               0.2   \n",
       "2                4.7               3.2                1.3               0.2   \n",
       "3                4.6               3.1                1.5               0.2   \n",
       "4                5.0               3.6                1.4               0.2   \n",
       "\n",
       "   species  \n",
       "0        0  \n",
       "1        0  \n",
       "2        0  \n",
       "3        0  \n",
       "4        0  "
      ]
     },
     "execution_count": 15,
     "metadata": {},
     "output_type": "execute_result"
    }
   ],
   "source": [
    "df = pd.read_sql_table('iris_cleaned', engine)\n",
    "\n",
    "df.head()"
   ]
  },
  {
   "cell_type": "markdown",
   "id": "ebd55724-3693-4544-85e7-3ea2e6a8102a",
   "metadata": {},
   "source": [
    "### Set up MLflow"
   ]
  },
  {
   "cell_type": "code",
   "execution_count": 16,
   "id": "e841a128-da72-4853-ae64-29b914abe555",
   "metadata": {
    "tags": []
   },
   "outputs": [
    {
     "data": {
      "text/plain": [
       "<Experiment: artifact_location='s3://mlflows3/artifacts/1', creation_time=1742159536746, experiment_id='1', last_update_time=1742159536746, lifecycle_stage='active', name='iris_classification_experiment', tags={}>"
      ]
     },
     "execution_count": 16,
     "metadata": {},
     "output_type": "execute_result"
    }
   ],
   "source": [
    "# Set up MLflow tracking URI\n",
    "tracking_uri = \"http://10.43.101.189:5000\"\n",
    "mlflow.set_tracking_uri(tracking_uri)\n",
    "\n",
    "# Create an experiment\n",
    "experiment_name = \"iris_classification_experiment\"\n",
    "mlflow.set_experiment(experiment_name)"
   ]
  },
  {
   "cell_type": "markdown",
   "id": "e638c549-e598-4486-b81f-7ba26ee0fe6b",
   "metadata": {},
   "source": [
    "### Serparación dataset"
   ]
  },
  {
   "cell_type": "code",
   "execution_count": 19,
   "id": "89bef4e9-aa7f-4148-92e9-c0ffb9871a6b",
   "metadata": {
    "tags": []
   },
   "outputs": [],
   "source": [
    "X = df.drop(columns=['species'])\n",
    "y = df['species']\n",
    "\n",
    "X_train, X_test, y_train, y_test = train_test_split(X, y, test_size=0.2, shuffle=True, stratify=y)"
   ]
  },
  {
   "cell_type": "code",
   "execution_count": 21,
   "id": "d397b963-beee-45ed-acd4-f34caf573774",
   "metadata": {
    "tags": []
   },
   "outputs": [
    {
     "data": {
      "text/html": [
       "<div>\n",
       "<style scoped>\n",
       "    .dataframe tbody tr th:only-of-type {\n",
       "        vertical-align: middle;\n",
       "    }\n",
       "\n",
       "    .dataframe tbody tr th {\n",
       "        vertical-align: top;\n",
       "    }\n",
       "\n",
       "    .dataframe thead th {\n",
       "        text-align: right;\n",
       "    }\n",
       "</style>\n",
       "<table border=\"1\" class=\"dataframe\">\n",
       "  <thead>\n",
       "    <tr style=\"text-align: right;\">\n",
       "      <th></th>\n",
       "      <th>sepal length (cm)</th>\n",
       "      <th>sepal width (cm)</th>\n",
       "      <th>petal length (cm)</th>\n",
       "      <th>petal width (cm)</th>\n",
       "    </tr>\n",
       "  </thead>\n",
       "  <tbody>\n",
       "    <tr>\n",
       "      <th>57</th>\n",
       "      <td>4.9</td>\n",
       "      <td>2.4</td>\n",
       "      <td>3.3</td>\n",
       "      <td>1.0</td>\n",
       "    </tr>\n",
       "    <tr>\n",
       "      <th>109</th>\n",
       "      <td>7.2</td>\n",
       "      <td>3.6</td>\n",
       "      <td>6.1</td>\n",
       "      <td>2.5</td>\n",
       "    </tr>\n",
       "    <tr>\n",
       "      <th>117</th>\n",
       "      <td>7.7</td>\n",
       "      <td>3.8</td>\n",
       "      <td>6.7</td>\n",
       "      <td>2.2</td>\n",
       "    </tr>\n",
       "    <tr>\n",
       "      <th>116</th>\n",
       "      <td>6.5</td>\n",
       "      <td>3.0</td>\n",
       "      <td>5.5</td>\n",
       "      <td>1.8</td>\n",
       "    </tr>\n",
       "    <tr>\n",
       "      <th>91</th>\n",
       "      <td>6.1</td>\n",
       "      <td>3.0</td>\n",
       "      <td>4.6</td>\n",
       "      <td>1.4</td>\n",
       "    </tr>\n",
       "    <tr>\n",
       "      <th>...</th>\n",
       "      <td>...</td>\n",
       "      <td>...</td>\n",
       "      <td>...</td>\n",
       "      <td>...</td>\n",
       "    </tr>\n",
       "    <tr>\n",
       "      <th>49</th>\n",
       "      <td>5.0</td>\n",
       "      <td>3.3</td>\n",
       "      <td>1.4</td>\n",
       "      <td>0.2</td>\n",
       "    </tr>\n",
       "    <tr>\n",
       "      <th>129</th>\n",
       "      <td>7.2</td>\n",
       "      <td>3.0</td>\n",
       "      <td>5.8</td>\n",
       "      <td>1.6</td>\n",
       "    </tr>\n",
       "    <tr>\n",
       "      <th>64</th>\n",
       "      <td>5.6</td>\n",
       "      <td>2.9</td>\n",
       "      <td>3.6</td>\n",
       "      <td>1.3</td>\n",
       "    </tr>\n",
       "    <tr>\n",
       "      <th>37</th>\n",
       "      <td>4.9</td>\n",
       "      <td>3.6</td>\n",
       "      <td>1.4</td>\n",
       "      <td>0.1</td>\n",
       "    </tr>\n",
       "    <tr>\n",
       "      <th>30</th>\n",
       "      <td>4.8</td>\n",
       "      <td>3.1</td>\n",
       "      <td>1.6</td>\n",
       "      <td>0.2</td>\n",
       "    </tr>\n",
       "  </tbody>\n",
       "</table>\n",
       "<p>119 rows × 4 columns</p>\n",
       "</div>"
      ],
      "text/plain": [
       "     sepal length (cm)  sepal width (cm)  petal length (cm)  petal width (cm)\n",
       "57                 4.9               2.4                3.3               1.0\n",
       "109                7.2               3.6                6.1               2.5\n",
       "117                7.7               3.8                6.7               2.2\n",
       "116                6.5               3.0                5.5               1.8\n",
       "91                 6.1               3.0                4.6               1.4\n",
       "..                 ...               ...                ...               ...\n",
       "49                 5.0               3.3                1.4               0.2\n",
       "129                7.2               3.0                5.8               1.6\n",
       "64                 5.6               2.9                3.6               1.3\n",
       "37                 4.9               3.6                1.4               0.1\n",
       "30                 4.8               3.1                1.6               0.2\n",
       "\n",
       "[119 rows x 4 columns]"
      ]
     },
     "execution_count": 21,
     "metadata": {},
     "output_type": "execute_result"
    }
   ],
   "source": [
    "X_train"
   ]
  },
  {
   "cell_type": "markdown",
   "id": "41617987-df3c-4b0f-a6d4-d77b417739e4",
   "metadata": {},
   "source": [
    "### Optimización de hiperparametros con Optuna para `RandomForestClassifier`"
   ]
  },
  {
   "cell_type": "code",
   "execution_count": null,
   "id": "f2826c4e-2695-45a0-8781-037f7976e0c7",
   "metadata": {},
   "outputs": [],
   "source": [
    "# Define objective function\n",
    "def objective(trial):\n",
    "    with mlflow.start_run(nested=True):\n",
    "        params = {\n",
    "            'n_estimators': trial.suggest_int('n_estimators', 100, 600), \n",
    "            'max_depth': trial.suggest_int('max_depth', 3, 30), \n",
    "            'min_samples_split': trial.suggest_int('min_samples_split', 3, 20), \n",
    "            'min_samples_leaf': trial.suggest_int('min_samples_leaf', 3, 20), \n",
    "            'max_features': trial.suggest_float('max_features', 0.5, 1.0),\n",
    "            'max_samples': trial.suggest_float('max_samples', 0.7, 1.0)\n",
    "        }\n",
    "        \n",
    "        # Initialize model\n",
    "        model = RandomForestClassifier(**params, random_state=42, n_jobs=-1)\n",
    "\n",
    "        # Define Stratified K-Folds\n",
    "        skf = StratifiedKFold(n_splits=5, shuffle=True, random_state=42)\n",
    "\n",
    "        # Compute cross-validation scores using Average Precision\n",
    "        scores = cross_val_score(model, X, y, cv=skf, scoring=\"average_precision\", n_jobs=-1)\n",
    "\n",
    "        # Log parameters and metrics\n",
    "        mlflow.log_params(params)\n",
    "        mlflow.log_metric(\"mean_auprc\", np.mean(scores))\n",
    "\n",
    "        return np.mean(scores)"
   ]
  }
 ],
 "metadata": {
  "kernelspec": {
   "display_name": "Python 3 (ipykernel)",
   "language": "python",
   "name": "python3"
  },
  "language_info": {
   "codemirror_mode": {
    "name": "ipython",
    "version": 3
   },
   "file_extension": ".py",
   "mimetype": "text/x-python",
   "name": "python",
   "nbconvert_exporter": "python",
   "pygments_lexer": "ipython3",
   "version": "3.10.16"
  }
 },
 "nbformat": 4,
 "nbformat_minor": 5
}
