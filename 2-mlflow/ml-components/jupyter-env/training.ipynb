{
 "cells": [
  {
   "cell_type": "code",
   "execution_count": 1,
   "id": "00bf500d-69f2-4025-bd9e-a73e9bdc9738",
   "metadata": {
    "tags": []
   },
   "outputs": [],
   "source": [
    "from sqlalchemy import create_engine, inspect\n",
    "import mlflow\n",
    "import pandas as pd\n",
    "import numpy as np\n",
    "import os"
   ]
  },
  {
   "cell_type": "code",
   "execution_count": 2,
   "id": "27b5ea6e-7793-4915-b6b1-1b0adcbd56df",
   "metadata": {
    "tags": []
   },
   "outputs": [],
   "source": [
    "from sklearn.model_selection import train_test_split\n",
    "from utils import custom_reports\n",
    "import optuna\n",
    "from sklearn.ensemble import RandomForestClassifier\n",
    "from lightgbm import LGBMClassifier\n",
    "from sklearn.model_selection import StratifiedKFold\n",
    "from sklearn.model_selection import cross_val_score"
   ]
  },
  {
   "cell_type": "markdown",
   "id": "04087c0f-506b-4a03-b3ad-0b282a8df3ce",
   "metadata": {
    "tags": []
   },
   "source": [
    "### Parametros conexiones"
   ]
  },
  {
   "cell_type": "code",
   "execution_count": 3,
   "id": "e44368e1-0c34-48f0-96f6-9b664fe51eb0",
   "metadata": {
    "tags": []
   },
   "outputs": [],
   "source": [
    "db_config = {\n",
    "    \"host\": \"10.43.101.189\",\n",
    "    \"port\": 3306,\n",
    "    \"user\": \"taller-mlflow\",\n",
    "    \"password\": \"mlflow\",\n",
    "    \"database\": \"taller\",\n",
    "}\n",
    "\n",
    "tracking_uri = \"http://10.43.101.189:5000\"\n",
    "\n",
    "os.environ['MLFLOW_S3_ENDPOINT_URL'] = \"http://10.43.101.189:9000\"\n",
    "os.environ['AWS_ACCESS_KEY_ID'] = 'minioadmin'\n",
    "os.environ['AWS_SECRET_ACCESS_KEY'] = 'minioadmin'"
   ]
  },
  {
   "cell_type": "markdown",
   "id": "77c8c9f3-bb2f-4e5e-83d1-22ce3233f4c8",
   "metadata": {
    "jp-MarkdownHeadingCollapsed": true,
    "tags": []
   },
   "source": [
    "### Carga de datos desde servidor de `MySql`"
   ]
  },
  {
   "cell_type": "code",
   "execution_count": 23,
   "id": "8cbbf6ef-4417-4d8c-abc5-fbb44e3c582c",
   "metadata": {
    "tags": []
   },
   "outputs": [
    {
     "name": "stdout",
     "output_type": "stream",
     "text": [
      "Tablas en la base de datos 'taller': ['iris_cleaned', 'iris_raw']\n"
     ]
    }
   ],
   "source": [
    "engine = create_engine(\n",
    "    f\"mysql+pymysql://{db_config['user']}:{db_config['password']}@{db_config['host']}:{db_config['port']}/{db_config['database']}\"\n",
    ")\n",
    "\n",
    "# Crear el inspector de la base de datos\n",
    "inspector = inspect(engine)\n",
    "\n",
    "# Obtener la lista de tablas en la base de datos 'taller'\n",
    "tables = inspector.get_table_names()\n",
    "\n",
    "# Imprimir la lista de tablas\n",
    "print(\"Tablas en la base de datos 'taller':\", tables)\n"
   ]
  },
  {
   "cell_type": "code",
   "execution_count": 24,
   "id": "3b2a1ef4-bedc-4f44-8a6d-c6bbf579ebe6",
   "metadata": {
    "tags": []
   },
   "outputs": [
    {
     "data": {
      "text/html": [
       "<div>\n",
       "<style scoped>\n",
       "    .dataframe tbody tr th:only-of-type {\n",
       "        vertical-align: middle;\n",
       "    }\n",
       "\n",
       "    .dataframe tbody tr th {\n",
       "        vertical-align: top;\n",
       "    }\n",
       "\n",
       "    .dataframe thead th {\n",
       "        text-align: right;\n",
       "    }\n",
       "</style>\n",
       "<table border=\"1\" class=\"dataframe\">\n",
       "  <thead>\n",
       "    <tr style=\"text-align: right;\">\n",
       "      <th></th>\n",
       "      <th>sepal length (cm)</th>\n",
       "      <th>sepal width (cm)</th>\n",
       "      <th>petal length (cm)</th>\n",
       "      <th>petal width (cm)</th>\n",
       "      <th>species</th>\n",
       "    </tr>\n",
       "  </thead>\n",
       "  <tbody>\n",
       "    <tr>\n",
       "      <th>0</th>\n",
       "      <td>5.1</td>\n",
       "      <td>3.5</td>\n",
       "      <td>1.4</td>\n",
       "      <td>0.2</td>\n",
       "      <td>0</td>\n",
       "    </tr>\n",
       "    <tr>\n",
       "      <th>1</th>\n",
       "      <td>4.9</td>\n",
       "      <td>3.0</td>\n",
       "      <td>1.4</td>\n",
       "      <td>0.2</td>\n",
       "      <td>0</td>\n",
       "    </tr>\n",
       "    <tr>\n",
       "      <th>2</th>\n",
       "      <td>4.7</td>\n",
       "      <td>3.2</td>\n",
       "      <td>1.3</td>\n",
       "      <td>0.2</td>\n",
       "      <td>0</td>\n",
       "    </tr>\n",
       "    <tr>\n",
       "      <th>3</th>\n",
       "      <td>4.6</td>\n",
       "      <td>3.1</td>\n",
       "      <td>1.5</td>\n",
       "      <td>0.2</td>\n",
       "      <td>0</td>\n",
       "    </tr>\n",
       "    <tr>\n",
       "      <th>4</th>\n",
       "      <td>5.0</td>\n",
       "      <td>3.6</td>\n",
       "      <td>1.4</td>\n",
       "      <td>0.2</td>\n",
       "      <td>0</td>\n",
       "    </tr>\n",
       "  </tbody>\n",
       "</table>\n",
       "</div>"
      ],
      "text/plain": [
       "   sepal length (cm)  sepal width (cm)  petal length (cm)  petal width (cm)  \\\n",
       "0                5.1               3.5                1.4               0.2   \n",
       "1                4.9               3.0                1.4               0.2   \n",
       "2                4.7               3.2                1.3               0.2   \n",
       "3                4.6               3.1                1.5               0.2   \n",
       "4                5.0               3.6                1.4               0.2   \n",
       "\n",
       "   species  \n",
       "0        0  \n",
       "1        0  \n",
       "2        0  \n",
       "3        0  \n",
       "4        0  "
      ]
     },
     "execution_count": 24,
     "metadata": {},
     "output_type": "execute_result"
    }
   ],
   "source": [
    "df = pd.read_sql_table('iris_cleaned', engine)\n",
    "\n",
    "df.head()"
   ]
  },
  {
   "cell_type": "markdown",
   "id": "ebd55724-3693-4544-85e7-3ea2e6a8102a",
   "metadata": {
    "tags": []
   },
   "source": [
    "### Set up MLflow"
   ]
  },
  {
   "cell_type": "code",
   "execution_count": 4,
   "id": "aaf0a32b-13a6-4975-8e5d-9044560b9cce",
   "metadata": {
    "tags": []
   },
   "outputs": [],
   "source": [
    "# Set up MLflow tracking URI\n",
    "tracking_uri = \"http://10.43.101.189:5000\"\n",
    "mlflow.set_tracking_uri(tracking_uri)\n"
   ]
  },
  {
   "cell_type": "code",
   "execution_count": 6,
   "id": "e841a128-da72-4853-ae64-29b914abe555",
   "metadata": {
    "tags": []
   },
   "outputs": [
    {
     "data": {
      "text/plain": [
       "<Experiment: artifact_location='s3://mlflows3/artifacts/1', creation_time=1742159536746, experiment_id='1', last_update_time=1742159536746, lifecycle_stage='active', name='iris_classification_experiment', tags={}>"
      ]
     },
     "execution_count": 6,
     "metadata": {},
     "output_type": "execute_result"
    }
   ],
   "source": [
    "# Create an experiment\n",
    "experiment_name = \"iris_classification_experiment\"\n",
    "mlflow.set_experiment(experiment_name)"
   ]
  },
  {
   "cell_type": "markdown",
   "id": "e638c549-e598-4486-b81f-7ba26ee0fe6b",
   "metadata": {
    "jp-MarkdownHeadingCollapsed": true,
    "tags": []
   },
   "source": [
    "### Serparación dataset"
   ]
  },
  {
   "cell_type": "code",
   "execution_count": 26,
   "id": "89bef4e9-aa7f-4148-92e9-c0ffb9871a6b",
   "metadata": {
    "tags": []
   },
   "outputs": [],
   "source": [
    "X = df.drop(columns=['species'])\n",
    "y = df['species']\n",
    "\n",
    "X_train, X_test, y_train, y_test = train_test_split(X, y, test_size=0.2, shuffle=True, stratify=y)"
   ]
  },
  {
   "cell_type": "code",
   "execution_count": 27,
   "id": "d397b963-beee-45ed-acd4-f34caf573774",
   "metadata": {
    "tags": []
   },
   "outputs": [
    {
     "data": {
      "text/html": [
       "<div>\n",
       "<style scoped>\n",
       "    .dataframe tbody tr th:only-of-type {\n",
       "        vertical-align: middle;\n",
       "    }\n",
       "\n",
       "    .dataframe tbody tr th {\n",
       "        vertical-align: top;\n",
       "    }\n",
       "\n",
       "    .dataframe thead th {\n",
       "        text-align: right;\n",
       "    }\n",
       "</style>\n",
       "<table border=\"1\" class=\"dataframe\">\n",
       "  <thead>\n",
       "    <tr style=\"text-align: right;\">\n",
       "      <th></th>\n",
       "      <th>sepal length (cm)</th>\n",
       "      <th>sepal width (cm)</th>\n",
       "      <th>petal length (cm)</th>\n",
       "      <th>petal width (cm)</th>\n",
       "    </tr>\n",
       "  </thead>\n",
       "  <tbody>\n",
       "    <tr>\n",
       "      <th>90</th>\n",
       "      <td>5.5</td>\n",
       "      <td>2.6</td>\n",
       "      <td>4.4</td>\n",
       "      <td>1.2</td>\n",
       "    </tr>\n",
       "    <tr>\n",
       "      <th>51</th>\n",
       "      <td>6.4</td>\n",
       "      <td>3.2</td>\n",
       "      <td>4.5</td>\n",
       "      <td>1.5</td>\n",
       "    </tr>\n",
       "    <tr>\n",
       "      <th>44</th>\n",
       "      <td>5.1</td>\n",
       "      <td>3.8</td>\n",
       "      <td>1.9</td>\n",
       "      <td>0.4</td>\n",
       "    </tr>\n",
       "    <tr>\n",
       "      <th>37</th>\n",
       "      <td>4.9</td>\n",
       "      <td>3.6</td>\n",
       "      <td>1.4</td>\n",
       "      <td>0.1</td>\n",
       "    </tr>\n",
       "    <tr>\n",
       "      <th>131</th>\n",
       "      <td>7.9</td>\n",
       "      <td>3.8</td>\n",
       "      <td>6.4</td>\n",
       "      <td>2.0</td>\n",
       "    </tr>\n",
       "    <tr>\n",
       "      <th>...</th>\n",
       "      <td>...</td>\n",
       "      <td>...</td>\n",
       "      <td>...</td>\n",
       "      <td>...</td>\n",
       "    </tr>\n",
       "    <tr>\n",
       "      <th>42</th>\n",
       "      <td>4.4</td>\n",
       "      <td>3.2</td>\n",
       "      <td>1.3</td>\n",
       "      <td>0.2</td>\n",
       "    </tr>\n",
       "    <tr>\n",
       "      <th>141</th>\n",
       "      <td>6.9</td>\n",
       "      <td>3.1</td>\n",
       "      <td>5.1</td>\n",
       "      <td>2.3</td>\n",
       "    </tr>\n",
       "    <tr>\n",
       "      <th>71</th>\n",
       "      <td>6.1</td>\n",
       "      <td>2.8</td>\n",
       "      <td>4.0</td>\n",
       "      <td>1.3</td>\n",
       "    </tr>\n",
       "    <tr>\n",
       "      <th>73</th>\n",
       "      <td>6.1</td>\n",
       "      <td>2.8</td>\n",
       "      <td>4.7</td>\n",
       "      <td>1.2</td>\n",
       "    </tr>\n",
       "    <tr>\n",
       "      <th>45</th>\n",
       "      <td>4.8</td>\n",
       "      <td>3.0</td>\n",
       "      <td>1.4</td>\n",
       "      <td>0.3</td>\n",
       "    </tr>\n",
       "  </tbody>\n",
       "</table>\n",
       "<p>119 rows × 4 columns</p>\n",
       "</div>"
      ],
      "text/plain": [
       "     sepal length (cm)  sepal width (cm)  petal length (cm)  petal width (cm)\n",
       "90                 5.5               2.6                4.4               1.2\n",
       "51                 6.4               3.2                4.5               1.5\n",
       "44                 5.1               3.8                1.9               0.4\n",
       "37                 4.9               3.6                1.4               0.1\n",
       "131                7.9               3.8                6.4               2.0\n",
       "..                 ...               ...                ...               ...\n",
       "42                 4.4               3.2                1.3               0.2\n",
       "141                6.9               3.1                5.1               2.3\n",
       "71                 6.1               2.8                4.0               1.3\n",
       "73                 6.1               2.8                4.7               1.2\n",
       "45                 4.8               3.0                1.4               0.3\n",
       "\n",
       "[119 rows x 4 columns]"
      ]
     },
     "execution_count": 27,
     "metadata": {},
     "output_type": "execute_result"
    }
   ],
   "source": [
    "X_train"
   ]
  },
  {
   "cell_type": "markdown",
   "id": "41617987-df3c-4b0f-a6d4-d77b417739e4",
   "metadata": {
    "jp-MarkdownHeadingCollapsed": true,
    "tags": []
   },
   "source": [
    "### Definición de funciones para la optimización de hiperparámetros"
   ]
  },
  {
   "cell_type": "code",
   "execution_count": 9,
   "id": "1ca2c80a-15cd-4152-a34d-8ccf5e53d709",
   "metadata": {
    "tags": []
   },
   "outputs": [],
   "source": [
    "def champion_callback(study, frozen_trial):\n",
    "  \"\"\"\n",
    "  Logging callback that will report when a new trial iteration improves upon existing\n",
    "  best trial values.\n",
    "\n",
    "  Note: This callback is not intended for use in distributed computing systems such as Spark\n",
    "  or Ray due to the micro-batch iterative implementation for distributing trials to a cluster's\n",
    "  workers or agents.\n",
    "  The race conditions with file system state management for distributed trials will render\n",
    "  inconsistent values with this callback.\n",
    "  \"\"\"\n",
    "\n",
    "  winner = study.user_attrs.get(\"winner\", None)\n",
    "\n",
    "  if study.best_value and winner != study.best_value:\n",
    "      study.set_user_attr(\"winner\", study.best_value)\n",
    "      if winner:\n",
    "          improvement_percent = (abs(winner - study.best_value) / study.best_value) * 100\n",
    "          print(\n",
    "              f\"Trial {frozen_trial.number} achieved value: {frozen_trial.value} with \"\n",
    "              f\"{improvement_percent: .4f}% improvement\"\n",
    "          )\n",
    "      else:\n",
    "          print(f\"Initial trial {frozen_trial.number} achieved value: {frozen_trial.value}\")"
   ]
  },
  {
   "cell_type": "code",
   "execution_count": 10,
   "id": "f2826c4e-2695-45a0-8781-037f7976e0c7",
   "metadata": {},
   "outputs": [],
   "source": [
    "# Define objective function\n",
    "def objective_rf_acc(trial):\n",
    "    with mlflow.start_run(nested=True):\n",
    "        params = {\n",
    "            'n_estimators': trial.suggest_int('n_estimators', 100, 600), \n",
    "            'max_depth': trial.suggest_int('max_depth', 3, 30), \n",
    "            'min_samples_split': trial.suggest_int('min_samples_split', 3, 20), \n",
    "            'min_samples_leaf': trial.suggest_int('min_samples_leaf', 3, 20), \n",
    "            'max_features': trial.suggest_float('max_features', 0.5, 1.0),\n",
    "            'max_samples': trial.suggest_float('max_samples', 0.7, 1.0)\n",
    "        }\n",
    "        \n",
    "        # Initialize model\n",
    "        model = RandomForestClassifier(**params, random_state=42, n_jobs=-1)\n",
    "\n",
    "        # Define Stratified K-Folds\n",
    "        skf = StratifiedKFold(n_splits=5, shuffle=True, random_state=42)\n",
    "\n",
    "        # Compute cross-validation scores using Accuracy\n",
    "        scores = cross_val_score(model, X, y, cv=skf, scoring=\"accuracy\", n_jobs=-1)\n",
    "        scores_2 = cross_val_score(model, X, y, cv=skf, scoring=\"roc_auc_ovo\", n_jobs=-1)\n",
    "\n",
    "        # Log parameters and metrics\n",
    "        mlflow.log_params(params)\n",
    "        mlflow.log_metric(\"mean_accuracy\", np.mean(scores))\n",
    "        mlflow.log_metric(\"mean_auroc\", np.mean(scores_2))\n",
    "\n",
    "        return np.mean(scores)"
   ]
  },
  {
   "cell_type": "code",
   "execution_count": 11,
   "id": "1dac318a-d6bd-47db-ab20-1f089e51606d",
   "metadata": {
    "tags": []
   },
   "outputs": [],
   "source": [
    "# Define objective function\n",
    "def objective_rf_auroc(trial):\n",
    "    with mlflow.start_run(nested=True):\n",
    "        params = {\n",
    "            'n_estimators': trial.suggest_int('n_estimators', 100, 600), \n",
    "            'max_depth': trial.suggest_int('max_depth', 3, 30), \n",
    "            'min_samples_split': trial.suggest_int('min_samples_split', 3, 20), \n",
    "            'min_samples_leaf': trial.suggest_int('min_samples_leaf', 3, 20), \n",
    "            'max_features': trial.suggest_float('max_features', 0.5, 1.0),\n",
    "            'max_samples': trial.suggest_float('max_samples', 0.7, 1.0)\n",
    "        }\n",
    "        \n",
    "        # Initialize model\n",
    "        model = RandomForestClassifier(**params, random_state=42, n_jobs=-1)\n",
    "\n",
    "        # Define Stratified K-Folds\n",
    "        skf = StratifiedKFold(n_splits=5, shuffle=True, random_state=42)\n",
    "\n",
    "        # Compute cross-validation scores using AUROC\n",
    "        scores = cross_val_score(model, X, y, cv=skf, scoring=\"roc_auc_ovo\", n_jobs=-1)\n",
    "        scores_2 = cross_val_score(model, X, y, cv=skf, scoring=\"accuracy\", n_jobs=-1)\n",
    "\n",
    "        # Log parameters and metrics\n",
    "        mlflow.log_params(params)\n",
    "        mlflow.log_metric(\"mean_auroc\", np.mean(scores))\n",
    "        mlflow.log_metric(\"mean_accuracy\", np.mean(scores_2))\n",
    "\n",
    "        return np.mean(scores)"
   ]
  },
  {
   "cell_type": "markdown",
   "id": "0f1e34cc-b206-42ab-bf86-9e4716b727cf",
   "metadata": {
    "tags": []
   },
   "source": [
    "### Ejecutar `runs`"
   ]
  },
  {
   "cell_type": "code",
   "execution_count": 12,
   "id": "e19e6924-3074-41ff-a15d-048c6df1f278",
   "metadata": {
    "tags": []
   },
   "outputs": [
    {
     "name": "stderr",
     "output_type": "stream",
     "text": [
      "[I 2025-03-19 10:42:55,724] A new study created in memory with name: no-name-4f2be45c-fbc4-4eb8-9d68-1a7ef32b4c2f\n",
      "[I 2025-03-19 10:43:04,455] Trial 0 finished with value: 0.945977011494253 and parameters: {'n_estimators': 303, 'max_depth': 13, 'min_samples_split': 11, 'min_samples_leaf': 16, 'max_features': 0.8408051293943295, 'max_samples': 0.9320480288077833}. Best is trial 0 with value: 0.945977011494253.\n"
     ]
    },
    {
     "name": "stdout",
     "output_type": "stream",
     "text": [
      "🏃 View run zealous-boar-382 at: http://10.43.101.189:5000/#/experiments/1/runs/ce11026f807149e7a6e240690905c959\n",
      "🧪 View experiment at: http://10.43.101.189:5000/#/experiments/1\n",
      "Initial trial 0 achieved value: 0.945977011494253\n"
     ]
    },
    {
     "name": "stderr",
     "output_type": "stream",
     "text": [
      "[I 2025-03-19 10:43:15,725] Trial 1 finished with value: 0.945977011494253 and parameters: {'n_estimators': 463, 'max_depth': 10, 'min_samples_split': 10, 'min_samples_leaf': 17, 'max_features': 0.8880803633433754, 'max_samples': 0.7192275795097882}. Best is trial 0 with value: 0.945977011494253.\n"
     ]
    },
    {
     "name": "stdout",
     "output_type": "stream",
     "text": [
      "🏃 View run serious-lamb-411 at: http://10.43.101.189:5000/#/experiments/1/runs/3e1eabd27aa24ce78f853df076968445\n",
      "🧪 View experiment at: http://10.43.101.189:5000/#/experiments/1\n"
     ]
    },
    {
     "name": "stderr",
     "output_type": "stream",
     "text": [
      "[I 2025-03-19 10:43:29,287] Trial 2 finished with value: 0.945977011494253 and parameters: {'n_estimators': 560, 'max_depth': 9, 'min_samples_split': 15, 'min_samples_leaf': 20, 'max_features': 0.7861954301274099, 'max_samples': 0.963221795258721}. Best is trial 0 with value: 0.945977011494253.\n"
     ]
    },
    {
     "name": "stdout",
     "output_type": "stream",
     "text": [
      "🏃 View run stately-fly-780 at: http://10.43.101.189:5000/#/experiments/1/runs/6c09320a4521443d8c7bc79221ee1fdc\n",
      "🧪 View experiment at: http://10.43.101.189:5000/#/experiments/1\n"
     ]
    },
    {
     "name": "stderr",
     "output_type": "stream",
     "text": [
      "[I 2025-03-19 10:43:36,054] Trial 3 finished with value: 0.945977011494253 and parameters: {'n_estimators': 273, 'max_depth': 16, 'min_samples_split': 3, 'min_samples_leaf': 18, 'max_features': 0.9778660439127553, 'max_samples': 0.8757443563700916}. Best is trial 0 with value: 0.945977011494253.\n"
     ]
    },
    {
     "name": "stdout",
     "output_type": "stream",
     "text": [
      "🏃 View run capable-hog-860 at: http://10.43.101.189:5000/#/experiments/1/runs/a342c62b481f4d6aa557d9fcb1908f0d\n",
      "🧪 View experiment at: http://10.43.101.189:5000/#/experiments/1\n"
     ]
    },
    {
     "name": "stderr",
     "output_type": "stream",
     "text": [
      "[I 2025-03-19 10:43:47,342] Trial 4 finished with value: 0.9462068965517242 and parameters: {'n_estimators': 502, 'max_depth': 20, 'min_samples_split': 16, 'min_samples_leaf': 19, 'max_features': 0.6670114174661967, 'max_samples': 0.7474287004303597}. Best is trial 4 with value: 0.9462068965517242.\n"
     ]
    },
    {
     "name": "stdout",
     "output_type": "stream",
     "text": [
      "🏃 View run caring-eel-200 at: http://10.43.101.189:5000/#/experiments/1/runs/dead5d5c7bb749dda6186417528dca24\n",
      "🧪 View experiment at: http://10.43.101.189:5000/#/experiments/1\n",
      "Trial 4 achieved value: 0.9462068965517242 with  0.0243% improvement\n"
     ]
    },
    {
     "name": "stderr",
     "output_type": "stream",
     "text": [
      "[I 2025-03-19 10:43:58,413] Trial 5 finished with value: 0.9393103448275862 and parameters: {'n_estimators': 455, 'max_depth': 26, 'min_samples_split': 20, 'min_samples_leaf': 9, 'max_features': 0.7183558258576694, 'max_samples': 0.8647714233839964}. Best is trial 4 with value: 0.9462068965517242.\n"
     ]
    },
    {
     "name": "stdout",
     "output_type": "stream",
     "text": [
      "🏃 View run sedate-colt-353 at: http://10.43.101.189:5000/#/experiments/1/runs/02a5cd95b21941b7a34e28e78a34868b\n",
      "🧪 View experiment at: http://10.43.101.189:5000/#/experiments/1\n"
     ]
    },
    {
     "name": "stderr",
     "output_type": "stream",
     "text": [
      "[I 2025-03-19 10:44:08,338] Trial 6 finished with value: 0.945977011494253 and parameters: {'n_estimators': 401, 'max_depth': 28, 'min_samples_split': 11, 'min_samples_leaf': 20, 'max_features': 0.92490198122426, 'max_samples': 0.8149423151216532}. Best is trial 4 with value: 0.9462068965517242.\n"
     ]
    },
    {
     "name": "stdout",
     "output_type": "stream",
     "text": [
      "🏃 View run ambitious-eel-75 at: http://10.43.101.189:5000/#/experiments/1/runs/63604ab648bc4bf6a9dc7b9aab98477e\n",
      "🧪 View experiment at: http://10.43.101.189:5000/#/experiments/1\n"
     ]
    },
    {
     "name": "stderr",
     "output_type": "stream",
     "text": [
      "[I 2025-03-19 10:44:13,930] Trial 7 finished with value: 0.9462068965517242 and parameters: {'n_estimators': 223, 'max_depth': 27, 'min_samples_split': 9, 'min_samples_leaf': 7, 'max_features': 0.5725348159012796, 'max_samples': 0.9593892471179639}. Best is trial 4 with value: 0.9462068965517242.\n"
     ]
    },
    {
     "name": "stdout",
     "output_type": "stream",
     "text": [
      "🏃 View run calm-sheep-699 at: http://10.43.101.189:5000/#/experiments/1/runs/b2bb28d6819f48948e5b0e2009487a8e\n",
      "🧪 View experiment at: http://10.43.101.189:5000/#/experiments/1\n"
     ]
    },
    {
     "name": "stderr",
     "output_type": "stream",
     "text": [
      "[I 2025-03-19 10:44:27,271] Trial 8 finished with value: 0.945977011494253 and parameters: {'n_estimators': 563, 'max_depth': 26, 'min_samples_split': 8, 'min_samples_leaf': 3, 'max_features': 0.8330292315893837, 'max_samples': 0.7819163245989256}. Best is trial 4 with value: 0.9462068965517242.\n"
     ]
    },
    {
     "name": "stdout",
     "output_type": "stream",
     "text": [
      "🏃 View run casual-snake-862 at: http://10.43.101.189:5000/#/experiments/1/runs/584a4fd5152c4752986a006a96cdd6f0\n",
      "🧪 View experiment at: http://10.43.101.189:5000/#/experiments/1\n"
     ]
    },
    {
     "name": "stderr",
     "output_type": "stream",
     "text": [
      "[I 2025-03-19 10:44:31,449] Trial 9 finished with value: 0.945977011494253 and parameters: {'n_estimators': 167, 'max_depth': 30, 'min_samples_split': 3, 'min_samples_leaf': 5, 'max_features': 0.8989767472102931, 'max_samples': 0.895543786412016}. Best is trial 4 with value: 0.9462068965517242.\n"
     ]
    },
    {
     "name": "stdout",
     "output_type": "stream",
     "text": [
      "🏃 View run placid-robin-93 at: http://10.43.101.189:5000/#/experiments/1/runs/5f5c12b8f2a24af4ae1ee1e2f971cd1c\n",
      "🧪 View experiment at: http://10.43.101.189:5000/#/experiments/1\n"
     ]
    },
    {
     "name": "stderr",
     "output_type": "stream",
     "text": [
      "[I 2025-03-19 10:44:45,473] Trial 10 finished with value: 0.9393103448275862 and parameters: {'n_estimators': 590, 'max_depth': 20, 'min_samples_split': 17, 'min_samples_leaf': 13, 'max_features': 0.6364653496037485, 'max_samples': 0.7076907634788945}. Best is trial 4 with value: 0.9462068965517242.\n"
     ]
    },
    {
     "name": "stdout",
     "output_type": "stream",
     "text": [
      "🏃 View run smiling-gnu-713 at: http://10.43.101.189:5000/#/experiments/1/runs/cdc757ef7300459296ec5a5b4861afeb\n",
      "🧪 View experiment at: http://10.43.101.189:5000/#/experiments/1\n"
     ]
    },
    {
     "name": "stderr",
     "output_type": "stream",
     "text": [
      "[I 2025-03-19 10:44:48,021] Trial 11 finished with value: 0.9462068965517242 and parameters: {'n_estimators': 117, 'max_depth': 21, 'min_samples_split': 15, 'min_samples_leaf': 8, 'max_features': 0.5716709045216932, 'max_samples': 0.9868413700767713}. Best is trial 4 with value: 0.9462068965517242.\n"
     ]
    },
    {
     "name": "stdout",
     "output_type": "stream",
     "text": [
      "🏃 View run sincere-rat-602 at: http://10.43.101.189:5000/#/experiments/1/runs/39538b419b4c40f6855381ba7a151ffd\n",
      "🧪 View experiment at: http://10.43.101.189:5000/#/experiments/1\n"
     ]
    },
    {
     "name": "stderr",
     "output_type": "stream",
     "text": [
      "[I 2025-03-19 10:44:52,651] Trial 12 finished with value: 0.9462068965517242 and parameters: {'n_estimators': 223, 'max_depth': 21, 'min_samples_split': 7, 'min_samples_leaf': 12, 'max_features': 0.5750610602330646, 'max_samples': 0.7767353562318402}. Best is trial 4 with value: 0.9462068965517242.\n"
     ]
    },
    {
     "name": "stdout",
     "output_type": "stream",
     "text": [
      "🏃 View run inquisitive-bee-839 at: http://10.43.101.189:5000/#/experiments/1/runs/cfc11c82669247709f878a1d63b5d127\n",
      "🧪 View experiment at: http://10.43.101.189:5000/#/experiments/1\n"
     ]
    },
    {
     "name": "stderr",
     "output_type": "stream",
     "text": [
      "[I 2025-03-19 10:45:01,246] Trial 13 finished with value: 0.9462068965517242 and parameters: {'n_estimators': 375, 'max_depth': 4, 'min_samples_split': 14, 'min_samples_leaf': 8, 'max_features': 0.6668728635204642, 'max_samples': 0.8181047916264192}. Best is trial 4 with value: 0.9462068965517242.\n"
     ]
    },
    {
     "name": "stdout",
     "output_type": "stream",
     "text": [
      "🏃 View run worried-squid-490 at: http://10.43.101.189:5000/#/experiments/1/runs/7a8ae6c01bdd43eb96e309948dda73f0\n",
      "🧪 View experiment at: http://10.43.101.189:5000/#/experiments/1\n"
     ]
    },
    {
     "name": "stderr",
     "output_type": "stream",
     "text": [
      "[I 2025-03-19 10:45:06,402] Trial 14 finished with value: 0.9462068965517242 and parameters: {'n_estimators': 223, 'max_depth': 24, 'min_samples_split': 19, 'min_samples_leaf': 14, 'max_features': 0.527624130579569, 'max_samples': 0.9220278262069967}. Best is trial 4 with value: 0.9462068965517242.\n"
     ]
    },
    {
     "name": "stdout",
     "output_type": "stream",
     "text": [
      "🏃 View run luxuriant-smelt-369 at: http://10.43.101.189:5000/#/experiments/1/runs/dde30ea15c0648d397c58d0dc11c5c54\n",
      "🧪 View experiment at: http://10.43.101.189:5000/#/experiments/1\n"
     ]
    },
    {
     "name": "stderr",
     "output_type": "stream",
     "text": [
      "[I 2025-03-19 10:45:19,081] Trial 15 finished with value: 0.9462068965517242 and parameters: {'n_estimators': 515, 'max_depth': 17, 'min_samples_split': 7, 'min_samples_leaf': 10, 'max_features': 0.659033093923362, 'max_samples': 0.7533742419048541}. Best is trial 4 with value: 0.9462068965517242.\n"
     ]
    },
    {
     "name": "stdout",
     "output_type": "stream",
     "text": [
      "🏃 View run dazzling-shrew-65 at: http://10.43.101.189:5000/#/experiments/1/runs/52c1e6bf7fbd4173ab4023c4d3ce038b\n",
      "🧪 View experiment at: http://10.43.101.189:5000/#/experiments/1\n"
     ]
    },
    {
     "name": "stderr",
     "output_type": "stream",
     "text": [
      "[I 2025-03-19 10:45:27,470] Trial 16 finished with value: 0.9462068965517242 and parameters: {'n_estimators': 330, 'max_depth': 23, 'min_samples_split': 13, 'min_samples_leaf': 6, 'max_features': 0.7268703181387286, 'max_samples': 0.8348775430372081}. Best is trial 4 with value: 0.9462068965517242.\n"
     ]
    },
    {
     "name": "stdout",
     "output_type": "stream",
     "text": [
      "🏃 View run monumental-ram-448 at: http://10.43.101.189:5000/#/experiments/1/runs/77a5e22dfd3840abbb928f998548b4a0\n",
      "🧪 View experiment at: http://10.43.101.189:5000/#/experiments/1\n"
     ]
    },
    {
     "name": "stderr",
     "output_type": "stream",
     "text": [
      "[I 2025-03-19 10:45:36,101] Trial 17 finished with value: 0.9393103448275862 and parameters: {'n_estimators': 434, 'max_depth': 18, 'min_samples_split': 17, 'min_samples_leaf': 15, 'max_features': 0.511430270621015, 'max_samples': 0.9465780665997}. Best is trial 4 with value: 0.9462068965517242.\n"
     ]
    },
    {
     "name": "stdout",
     "output_type": "stream",
     "text": [
      "🏃 View run beautiful-cat-852 at: http://10.43.101.189:5000/#/experiments/1/runs/d9209afcd1dc40a48e8cda66c56c97bc\n",
      "🧪 View experiment at: http://10.43.101.189:5000/#/experiments/1\n"
     ]
    },
    {
     "name": "stderr",
     "output_type": "stream",
     "text": [
      "[I 2025-03-19 10:45:41,894] Trial 18 finished with value: 0.9528735632183908 and parameters: {'n_estimators': 251, 'max_depth': 30, 'min_samples_split': 5, 'min_samples_leaf': 11, 'max_features': 0.604056936688449, 'max_samples': 0.7454704165321373}. Best is trial 18 with value: 0.9528735632183908.\n"
     ]
    },
    {
     "name": "stdout",
     "output_type": "stream",
     "text": [
      "🏃 View run puzzled-carp-151 at: http://10.43.101.189:5000/#/experiments/1/runs/aaa049c908174541972052fded55c293\n",
      "🧪 View experiment at: http://10.43.101.189:5000/#/experiments/1\n",
      "Trial 18 achieved value: 0.9528735632183908 with  0.6996% improvement\n"
     ]
    },
    {
     "name": "stderr",
     "output_type": "stream",
     "text": [
      "[I 2025-03-19 10:45:53,629] Trial 19 finished with value: 0.9462068965517242 and parameters: {'n_estimators': 498, 'max_depth': 14, 'min_samples_split': 5, 'min_samples_leaf': 11, 'max_features': 0.6308898707197614, 'max_samples': 0.7422136622604663}. Best is trial 18 with value: 0.9528735632183908.\n"
     ]
    },
    {
     "name": "stdout",
     "output_type": "stream",
     "text": [
      "🏃 View run abrasive-ox-179 at: http://10.43.101.189:5000/#/experiments/1/runs/d784d9e4bffd4134bdd2bb86361ae92e\n",
      "🧪 View experiment at: http://10.43.101.189:5000/#/experiments/1\n",
      "* Classification Report:\n",
      "              precision    recall  f1-score   support\n",
      "\n",
      "           0       1.00      1.00      1.00        10\n",
      "           1       0.82      0.90      0.86        10\n",
      "           2       0.89      0.80      0.84        10\n",
      "\n",
      "    accuracy                           0.90        30\n",
      "   macro avg       0.90      0.90      0.90        30\n",
      "weighted avg       0.90      0.90      0.90        30\n",
      "\n",
      "* Confusion Matrix:\n",
      "[[10  0  0]\n",
      " [ 0  9  1]\n",
      " [ 0  2  8]]\n",
      "\n",
      "AUROC: 0.9900\n",
      "Accuracy: 0.9000\n",
      "Recall: 0.9000\n",
      "Precision: 0.9024\n",
      "F1 Score: 0.8997\n"
     ]
    },
    {
     "name": "stderr",
     "output_type": "stream",
     "text": [
      "2025/03/19 10:45:59 WARNING mlflow.utils.environment: Failed to resolve installed pip version. ``pip`` will be added to conda.yaml environment spec without a version specifier.\n",
      "\u001b[31m2025/03/19 10:45:59 WARNING mlflow.models.model: Model logged without a signature and input example. Please set `input_example` parameter when logging the model to auto infer the model signature.\u001b[0m\n"
     ]
    },
    {
     "name": "stdout",
     "output_type": "stream",
     "text": [
      "🏃 View run RandomForestClassifier optimizando Accuracy at: http://10.43.101.189:5000/#/experiments/1/runs/7390012ff4f6475c9958309fbba06852\n",
      "🧪 View experiment at: http://10.43.101.189:5000/#/experiments/1\n"
     ]
    }
   ],
   "source": [
    "run_name = \"RandomForestClassifier optimizando Accuracy\"\n",
    "exp_id = mlflow.get_experiment_by_name(\"experiment_name\")\n",
    "\n",
    "with mlflow.start_run(experiment_id=exp_id, run_name=run_name, nested=True):\n",
    "\n",
    "    study = optuna.create_study(direction=\"maximize\")\n",
    "    \n",
    "\n",
    "    study.optimize(objective_rf_acc, n_trials=20, callbacks=[champion_callback])\n",
    "\n",
    "    mlflow.log_params(study.best_params)\n",
    "    mlflow.log_metric(\"best_accuracy\", study.best_value)\n",
    "\n",
    "    mlflow.set_tags(\n",
    "        tags={\n",
    "            \"project\": \"Taller MLFlow\",\n",
    "            \"optimizer_engine\": \"optuna\",\n",
    "            \"model_family\": \"RandomForestClassifier\",\n",
    "            \"Optimization metric\": \"Accuracy\",\n",
    "        }\n",
    "    )\n",
    "\n",
    "    model = RandomForestClassifier(**study.best_params, random_state=42, n_jobs=-1)\n",
    "    model.fit(X_train, y_train)\n",
    "    \n",
    "    test_metrics = custom_reports(model, X_test, y_test)\n",
    "    mlflow.log_metrics(test_metrics)\n",
    "\n",
    "    artifact_path = \"model_rf_acc\"\n",
    "\n",
    "    mlflow.sklearn.log_model(\n",
    "        sk_model=model,\n",
    "        artifact_path=artifact_path,\n",
    "        metadata={\"model_data_version\": 1},\n",
    "    )\n",
    "\n",
    "    # Get the logged model uri so that we can load it from the artifact store\n",
    "    model_uri = mlflow.get_artifact_uri(artifact_path)\n"
   ]
  },
  {
   "cell_type": "code",
   "execution_count": 13,
   "id": "a491f6ae-701a-48a0-a931-04f33a94a481",
   "metadata": {
    "tags": []
   },
   "outputs": [
    {
     "name": "stderr",
     "output_type": "stream",
     "text": [
      "[I 2025-03-19 10:45:59,826] A new study created in memory with name: no-name-364e964a-c93b-4981-9b8e-a7ce5b355bd9\n",
      "[I 2025-03-19 10:46:02,472] Trial 0 finished with value: 0.9957777777777779 and parameters: {'n_estimators': 116, 'max_depth': 15, 'min_samples_split': 6, 'min_samples_leaf': 16, 'max_features': 0.989216876715426, 'max_samples': 0.7817030553715953}. Best is trial 0 with value: 0.9957777777777779.\n"
     ]
    },
    {
     "name": "stdout",
     "output_type": "stream",
     "text": [
      "🏃 View run wistful-fowl-113 at: http://10.43.101.189:5000/#/experiments/1/runs/0cec0359e9d84ebf956dba16aba31aac\n",
      "🧪 View experiment at: http://10.43.101.189:5000/#/experiments/1\n",
      "Initial trial 0 achieved value: 0.9957777777777779\n"
     ]
    },
    {
     "name": "stderr",
     "output_type": "stream",
     "text": [
      "[I 2025-03-19 10:46:12,845] Trial 1 finished with value: 0.995037037037037 and parameters: {'n_estimators': 415, 'max_depth': 11, 'min_samples_split': 4, 'min_samples_leaf': 5, 'max_features': 0.8960616898091263, 'max_samples': 0.9053451936491401}. Best is trial 0 with value: 0.9957777777777779.\n"
     ]
    },
    {
     "name": "stdout",
     "output_type": "stream",
     "text": [
      "🏃 View run skittish-wasp-854 at: http://10.43.101.189:5000/#/experiments/1/runs/6072f2ac6f964e47a490962728cf02cf\n",
      "🧪 View experiment at: http://10.43.101.189:5000/#/experiments/1\n"
     ]
    },
    {
     "name": "stderr",
     "output_type": "stream",
     "text": [
      "[I 2025-03-19 10:46:26,231] Trial 2 finished with value: 0.9965185185185185 and parameters: {'n_estimators': 558, 'max_depth': 24, 'min_samples_split': 7, 'min_samples_leaf': 16, 'max_features': 0.7901989562875102, 'max_samples': 0.7599895965171228}. Best is trial 2 with value: 0.9965185185185185.\n"
     ]
    },
    {
     "name": "stdout",
     "output_type": "stream",
     "text": [
      "🏃 View run orderly-gull-707 at: http://10.43.101.189:5000/#/experiments/1/runs/0ac3e8cc520a442494590e5db67b1dd4\n",
      "🧪 View experiment at: http://10.43.101.189:5000/#/experiments/1\n",
      "Trial 2 achieved value: 0.9965185185185185 with  0.0743% improvement\n"
     ]
    },
    {
     "name": "stderr",
     "output_type": "stream",
     "text": [
      "[I 2025-03-19 10:46:30,398] Trial 3 finished with value: 0.9932962962962962 and parameters: {'n_estimators': 180, 'max_depth': 11, 'min_samples_split': 19, 'min_samples_leaf': 19, 'max_features': 0.6624553529817976, 'max_samples': 0.76517517087754}. Best is trial 2 with value: 0.9965185185185185.\n"
     ]
    },
    {
     "name": "stdout",
     "output_type": "stream",
     "text": [
      "🏃 View run redolent-trout-461 at: http://10.43.101.189:5000/#/experiments/1/runs/184eef0e3a0e42a08f55d5221f9130f8\n",
      "🧪 View experiment at: http://10.43.101.189:5000/#/experiments/1\n"
     ]
    },
    {
     "name": "stderr",
     "output_type": "stream",
     "text": [
      "[I 2025-03-19 10:46:36,349] Trial 4 finished with value: 0.9957777777777779 and parameters: {'n_estimators': 241, 'max_depth': 29, 'min_samples_split': 10, 'min_samples_leaf': 9, 'max_features': 0.927627807488795, 'max_samples': 0.7770181763199837}. Best is trial 2 with value: 0.9965185185185185.\n"
     ]
    },
    {
     "name": "stdout",
     "output_type": "stream",
     "text": [
      "🏃 View run victorious-goose-291 at: http://10.43.101.189:5000/#/experiments/1/runs/dcfc70d8f6c54471848914cf2cc15bfa\n",
      "🧪 View experiment at: http://10.43.101.189:5000/#/experiments/1\n"
     ]
    },
    {
     "name": "stderr",
     "output_type": "stream",
     "text": [
      "[I 2025-03-19 10:46:41,251] Trial 5 finished with value: 0.9965185185185185 and parameters: {'n_estimators': 202, 'max_depth': 19, 'min_samples_split': 16, 'min_samples_leaf': 11, 'max_features': 0.9707143330879622, 'max_samples': 0.79900291958568}. Best is trial 2 with value: 0.9965185185185185.\n"
     ]
    },
    {
     "name": "stdout",
     "output_type": "stream",
     "text": [
      "🏃 View run fearless-flea-149 at: http://10.43.101.189:5000/#/experiments/1/runs/f298be6d6d984e169d07bbe6ffb034d5\n",
      "🧪 View experiment at: http://10.43.101.189:5000/#/experiments/1\n"
     ]
    },
    {
     "name": "stderr",
     "output_type": "stream",
     "text": [
      "[I 2025-03-19 10:46:45,375] Trial 6 finished with value: 0.9936296296296296 and parameters: {'n_estimators': 183, 'max_depth': 26, 'min_samples_split': 20, 'min_samples_leaf': 3, 'max_features': 0.5847703117476857, 'max_samples': 0.815673444767337}. Best is trial 2 with value: 0.9965185185185185.\n"
     ]
    },
    {
     "name": "stdout",
     "output_type": "stream",
     "text": [
      "🏃 View run vaunted-flea-885 at: http://10.43.101.189:5000/#/experiments/1/runs/ee328982b4a84226916ff22cdf809f28\n",
      "🧪 View experiment at: http://10.43.101.189:5000/#/experiments/1\n"
     ]
    },
    {
     "name": "stderr",
     "output_type": "stream",
     "text": [
      "[I 2025-03-19 10:46:54,547] Trial 7 finished with value: 0.9925555555555554 and parameters: {'n_estimators': 449, 'max_depth': 22, 'min_samples_split': 6, 'min_samples_leaf': 14, 'max_features': 0.6370677176911165, 'max_samples': 0.7103931741495991}. Best is trial 2 with value: 0.9965185185185185.\n"
     ]
    },
    {
     "name": "stdout",
     "output_type": "stream",
     "text": [
      "🏃 View run agreeable-horse-512 at: http://10.43.101.189:5000/#/experiments/1/runs/00ef7cd07bb94527a4943336e295f1c3\n",
      "🧪 View experiment at: http://10.43.101.189:5000/#/experiments/1\n"
     ]
    },
    {
     "name": "stderr",
     "output_type": "stream",
     "text": [
      "[I 2025-03-19 10:47:07,113] Trial 8 finished with value: 0.9925555555555554 and parameters: {'n_estimators': 484, 'max_depth': 5, 'min_samples_split': 10, 'min_samples_leaf': 18, 'max_features': 0.5816407670631059, 'max_samples': 0.9603445064890606}. Best is trial 2 with value: 0.9965185185185185.\n"
     ]
    },
    {
     "name": "stdout",
     "output_type": "stream",
     "text": [
      "🏃 View run sincere-flea-818 at: http://10.43.101.189:5000/#/experiments/1/runs/c26f0a9aa3974108bded82540323dbd3\n",
      "🧪 View experiment at: http://10.43.101.189:5000/#/experiments/1\n"
     ]
    },
    {
     "name": "stderr",
     "output_type": "stream",
     "text": [
      "[I 2025-03-19 10:47:13,670] Trial 9 finished with value: 0.9965185185185185 and parameters: {'n_estimators': 251, 'max_depth': 25, 'min_samples_split': 8, 'min_samples_leaf': 17, 'max_features': 0.9190729963161466, 'max_samples': 0.823973267250225}. Best is trial 2 with value: 0.9965185185185185.\n"
     ]
    },
    {
     "name": "stdout",
     "output_type": "stream",
     "text": [
      "🏃 View run exultant-fox-192 at: http://10.43.101.189:5000/#/experiments/1/runs/8913499bac4b4dd1a97043fa14fc01b9\n",
      "🧪 View experiment at: http://10.43.101.189:5000/#/experiments/1\n"
     ]
    },
    {
     "name": "stderr",
     "output_type": "stream",
     "text": [
      "[I 2025-03-19 10:47:28,171] Trial 10 finished with value: 0.9965185185185185 and parameters: {'n_estimators': 597, 'max_depth': 17, 'min_samples_split': 13, 'min_samples_leaf': 13, 'max_features': 0.803987332163602, 'max_samples': 0.7107904133010114}. Best is trial 2 with value: 0.9965185185185185.\n"
     ]
    },
    {
     "name": "stdout",
     "output_type": "stream",
     "text": [
      "🏃 View run clean-shrimp-106 at: http://10.43.101.189:5000/#/experiments/1/runs/ac832ea40ac745d38517241d18b80e08\n",
      "🧪 View experiment at: http://10.43.101.189:5000/#/experiments/1\n"
     ]
    },
    {
     "name": "stderr",
     "output_type": "stream",
     "text": [
      "[I 2025-03-19 10:47:35,595] Trial 11 finished with value: 0.9965185185185185 and parameters: {'n_estimators': 322, 'max_depth': 20, 'min_samples_split': 14, 'min_samples_leaf': 8, 'max_features': 0.7720829639507064, 'max_samples': 0.8685763777122542}. Best is trial 2 with value: 0.9965185185185185.\n"
     ]
    },
    {
     "name": "stdout",
     "output_type": "stream",
     "text": [
      "🏃 View run invincible-hen-320 at: http://10.43.101.189:5000/#/experiments/1/runs/f599b1cafacc4ebeac4f5bdcdea78b60\n",
      "🧪 View experiment at: http://10.43.101.189:5000/#/experiments/1\n"
     ]
    },
    {
     "name": "stderr",
     "output_type": "stream",
     "text": [
      "[I 2025-03-19 10:47:49,648] Trial 12 finished with value: 0.9957777777777779 and parameters: {'n_estimators': 595, 'max_depth': 22, 'min_samples_split': 16, 'min_samples_leaf': 10, 'max_features': 0.8338481826618376, 'max_samples': 0.7488492392148156}. Best is trial 2 with value: 0.9965185185185185.\n"
     ]
    },
    {
     "name": "stdout",
     "output_type": "stream",
     "text": [
      "🏃 View run bright-goat-324 at: http://10.43.101.189:5000/#/experiments/1/runs/f2ee8615a35341a6b57bb932bd09cb60\n",
      "🧪 View experiment at: http://10.43.101.189:5000/#/experiments/1\n"
     ]
    },
    {
     "name": "stderr",
     "output_type": "stream",
     "text": [
      "[I 2025-03-19 10:47:57,170] Trial 13 finished with value: 0.9932962962962962 and parameters: {'n_estimators': 345, 'max_depth': 29, 'min_samples_split': 15, 'min_samples_leaf': 13, 'max_features': 0.7088620035482309, 'max_samples': 0.869331762441962}. Best is trial 2 with value: 0.9965185185185185.\n"
     ]
    },
    {
     "name": "stdout",
     "output_type": "stream",
     "text": [
      "🏃 View run blushing-donkey-450 at: http://10.43.101.189:5000/#/experiments/1/runs/25f5de7638694b4cb739348b35f5ded6\n",
      "🧪 View experiment at: http://10.43.101.189:5000/#/experiments/1\n"
     ]
    },
    {
     "name": "stderr",
     "output_type": "stream",
     "text": [
      "[I 2025-03-19 10:48:09,022] Trial 14 finished with value: 0.9957777777777779 and parameters: {'n_estimators': 496, 'max_depth': 18, 'min_samples_split': 17, 'min_samples_leaf': 15, 'max_features': 0.9971350915131756, 'max_samples': 0.8203600290339518}. Best is trial 2 with value: 0.9965185185185185.\n"
     ]
    },
    {
     "name": "stdout",
     "output_type": "stream",
     "text": [
      "🏃 View run clean-loon-355 at: http://10.43.101.189:5000/#/experiments/1/runs/00b313a9c1624561920d4f7f262aba5c\n",
      "🧪 View experiment at: http://10.43.101.189:5000/#/experiments/1\n"
     ]
    },
    {
     "name": "stderr",
     "output_type": "stream",
     "text": [
      "[I 2025-03-19 10:48:15,547] Trial 15 finished with value: 0.9957777777777779 and parameters: {'n_estimators': 281, 'max_depth': 13, 'min_samples_split': 3, 'min_samples_leaf': 11, 'max_features': 0.8282529215681721, 'max_samples': 0.7417523923887777}. Best is trial 2 with value: 0.9965185185185185.\n"
     ]
    },
    {
     "name": "stdout",
     "output_type": "stream",
     "text": [
      "🏃 View run ambitious-bee-983 at: http://10.43.101.189:5000/#/experiments/1/runs/3e34087213944b6883e691d4812d6d30\n",
      "🧪 View experiment at: http://10.43.101.189:5000/#/experiments/1\n"
     ]
    },
    {
     "name": "stderr",
     "output_type": "stream",
     "text": [
      "[I 2025-03-19 10:48:24,048] Trial 16 finished with value: 0.9925555555555554 and parameters: {'n_estimators': 396, 'max_depth': 25, 'min_samples_split': 12, 'min_samples_leaf': 20, 'max_features': 0.7272940088429101, 'max_samples': 0.987620079078344}. Best is trial 2 with value: 0.9965185185185185.\n"
     ]
    },
    {
     "name": "stdout",
     "output_type": "stream",
     "text": [
      "🏃 View run upbeat-skunk-491 at: http://10.43.101.189:5000/#/experiments/1/runs/c550bcc4786a40838a2afd76d6a8af91\n",
      "🧪 View experiment at: http://10.43.101.189:5000/#/experiments/1\n"
     ]
    },
    {
     "name": "stderr",
     "output_type": "stream",
     "text": [
      "[I 2025-03-19 10:48:36,025] Trial 17 finished with value: 0.9965185185185185 and parameters: {'n_estimators': 523, 'max_depth': 8, 'min_samples_split': 18, 'min_samples_leaf': 7, 'max_features': 0.8637117418472291, 'max_samples': 0.9137312646682576}. Best is trial 2 with value: 0.9965185185185185.\n"
     ]
    },
    {
     "name": "stdout",
     "output_type": "stream",
     "text": [
      "🏃 View run shivering-rook-822 at: http://10.43.101.189:5000/#/experiments/1/runs/1a157237cb144356bb8787cb7386ed5a\n",
      "🧪 View experiment at: http://10.43.101.189:5000/#/experiments/1\n"
     ]
    },
    {
     "name": "stderr",
     "output_type": "stream",
     "text": [
      "[I 2025-03-19 10:48:38,964] Trial 18 finished with value: 0.9932962962962962 and parameters: {'n_estimators': 115, 'max_depth': 21, 'min_samples_split': 9, 'min_samples_leaf': 12, 'max_features': 0.5292571198426184, 'max_samples': 0.803533434153789}. Best is trial 2 with value: 0.9965185185185185.\n"
     ]
    },
    {
     "name": "stdout",
     "output_type": "stream",
     "text": [
      "🏃 View run efficient-whale-165 at: http://10.43.101.189:5000/#/experiments/1/runs/5341dcf1c6034e0a920a6f873959da81\n",
      "🧪 View experiment at: http://10.43.101.189:5000/#/experiments/1\n"
     ]
    },
    {
     "name": "stderr",
     "output_type": "stream",
     "text": [
      "[I 2025-03-19 10:48:43,375] Trial 19 finished with value: 0.9961481481481481 and parameters: {'n_estimators': 173, 'max_depth': 18, 'min_samples_split': 7, 'min_samples_leaf': 15, 'max_features': 0.9460571999303181, 'max_samples': 0.8462717422405754}. Best is trial 2 with value: 0.9965185185185185.\n"
     ]
    },
    {
     "name": "stdout",
     "output_type": "stream",
     "text": [
      "🏃 View run likeable-fox-931 at: http://10.43.101.189:5000/#/experiments/1/runs/b96b093183f3432c9ecfc42d6a15c4b2\n",
      "🧪 View experiment at: http://10.43.101.189:5000/#/experiments/1\n",
      "* Classification Report:\n",
      "              precision    recall  f1-score   support\n",
      "\n",
      "           0       1.00      1.00      1.00        10\n",
      "           1       0.82      0.90      0.86        10\n",
      "           2       0.89      0.80      0.84        10\n",
      "\n",
      "    accuracy                           0.90        30\n",
      "   macro avg       0.90      0.90      0.90        30\n",
      "weighted avg       0.90      0.90      0.90        30\n",
      "\n",
      "* Confusion Matrix:\n",
      "[[10  0  0]\n",
      " [ 0  9  1]\n",
      " [ 0  2  8]]\n",
      "\n",
      "AUROC: 0.9933\n",
      "Accuracy: 0.9000\n",
      "Recall: 0.9000\n",
      "Precision: 0.9024\n",
      "F1 Score: 0.8997\n"
     ]
    },
    {
     "name": "stderr",
     "output_type": "stream",
     "text": [
      "2025/03/19 10:48:49 WARNING mlflow.utils.environment: Failed to resolve installed pip version. ``pip`` will be added to conda.yaml environment spec without a version specifier.\n",
      "\u001b[31m2025/03/19 10:48:49 WARNING mlflow.models.model: Model logged without a signature and input example. Please set `input_example` parameter when logging the model to auto infer the model signature.\u001b[0m\n"
     ]
    },
    {
     "name": "stdout",
     "output_type": "stream",
     "text": [
      "🏃 View run RandomForestClassifier optimizando AUROC at: http://10.43.101.189:5000/#/experiments/1/runs/e8c2eeb023744557aa3b337934d7dc68\n",
      "🧪 View experiment at: http://10.43.101.189:5000/#/experiments/1\n"
     ]
    }
   ],
   "source": [
    "run_name = \"RandomForestClassifier optimizando AUROC\"\n",
    "exp_id = mlflow.get_experiment_by_name(\"experiment_name\")\n",
    "\n",
    "with mlflow.start_run(experiment_id=exp_id, run_name=run_name, nested=True):\n",
    "\n",
    "    study = optuna.create_study(direction=\"maximize\")\n",
    "    \n",
    "\n",
    "    study.optimize(objective_rf_auroc, n_trials=20, callbacks=[champion_callback])\n",
    "\n",
    "    mlflow.log_params(study.best_params)\n",
    "    mlflow.log_metric(\"best_auroc\", study.best_value)\n",
    "\n",
    "    mlflow.set_tags(\n",
    "        tags={\n",
    "            \"project\": \"Taller MLFlow\",\n",
    "            \"optimizer_engine\": \"optuna\",\n",
    "            \"model_family\": \"RandomForestClassifier\",\n",
    "            \"Optimization metric\": \"AUROC\",\n",
    "        }\n",
    "    )\n",
    "\n",
    "    model = RandomForestClassifier(**study.best_params, random_state=42, n_jobs=-1)\n",
    "    model.fit(X_train, y_train)\n",
    "    \n",
    "    test_metrics = custom_reports(model, X_test, y_test)\n",
    "    mlflow.log_metrics(test_metrics)\n",
    "\n",
    "    artifact_path = \"model_rf_auroc\"\n",
    "\n",
    "    mlflow.sklearn.log_model(\n",
    "        sk_model=model,\n",
    "        artifact_path=artifact_path,\n",
    "        metadata={\"model_data_version\": 1},\n",
    "    )\n",
    "\n",
    "    # Get the logged model uri so that we can load it from the artifact store\n",
    "    model_uri = mlflow.get_artifact_uri(artifact_path)"
   ]
  },
  {
   "cell_type": "code",
   "execution_count": 5,
   "id": "e26018e6-9b7b-4538-8b4c-5c97f3f2a60f",
   "metadata": {
    "tags": []
   },
   "outputs": [
    {
     "data": {
      "application/vnd.jupyter.widget-view+json": {
       "model_id": "9c4f802c660b45b9ab6e4157c2a4e938",
       "version_major": 2,
       "version_minor": 0
      },
      "text/plain": [
       "Downloading artifacts:   0%|          | 0/5 [00:00<?, ?it/s]"
      ]
     },
     "metadata": {},
     "output_type": "display_data"
    }
   ],
   "source": [
    "model_uri = \"models:/iris_model@champion\"\n",
    "model = mlflow.pyfunc.load_model(model_uri)"
   ]
  },
  {
   "cell_type": "code",
   "execution_count": null,
   "id": "e6f80c45-bb8a-4fc7-9a1e-211fb304d43e",
   "metadata": {},
   "outputs": [],
   "source": []
  }
 ],
 "metadata": {
  "kernelspec": {
   "display_name": "Python 3 (ipykernel)",
   "language": "python",
   "name": "python3"
  },
  "language_info": {
   "codemirror_mode": {
    "name": "ipython",
    "version": 3
   },
   "file_extension": ".py",
   "mimetype": "text/x-python",
   "name": "python",
   "nbconvert_exporter": "python",
   "pygments_lexer": "ipython3",
   "version": "3.10.16"
  }
 },
 "nbformat": 4,
 "nbformat_minor": 5
}
